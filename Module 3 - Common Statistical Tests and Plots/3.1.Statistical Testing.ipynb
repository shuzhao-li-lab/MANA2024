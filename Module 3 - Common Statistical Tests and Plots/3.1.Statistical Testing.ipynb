{
 "cells": [
  {
   "cell_type": "markdown",
   "metadata": {},
   "source": [
    "# Statistical Testing for Metabolomics\n",
    "\n",
    "In this module we will review common statistical tests performed on metabolomics data. "
   ]
  },
  {
   "cell_type": "code",
   "execution_count": 13,
   "metadata": {},
   "outputs": [],
   "source": [
    "import pandas as pd\n",
    "import numpy as np\n",
    "import matplotlib.pyplot as plt\n",
    "from scipy.stats import ttest_ind, mannwhitneyu\n",
    "from sklearn.preprocessing import StandardScaler # for preprocesssing data before PCA\n",
    "from sklearn.decomposition import PCA"
   ]
  },
  {
   "cell_type": "code",
   "execution_count": 4,
   "metadata": {},
   "outputs": [
    {
     "data": {
      "text/html": [
       "<div>\n",
       "<style scoped>\n",
       "    .dataframe tbody tr th:only-of-type {\n",
       "        vertical-align: middle;\n",
       "    }\n",
       "\n",
       "    .dataframe tbody tr th {\n",
       "        vertical-align: top;\n",
       "    }\n",
       "\n",
       "    .dataframe thead th {\n",
       "        text-align: right;\n",
       "    }\n",
       "</style>\n",
       "<table border=\"1\" class=\"dataframe\">\n",
       "  <thead>\n",
       "    <tr style=\"text-align: right;\">\n",
       "      <th></th>\n",
       "      <th>mz</th>\n",
       "      <th>rtime</th>\n",
       "      <th>12C_Ecoli_20220321_004</th>\n",
       "      <th>12C_Ecoli_20220321_004_20220322095030</th>\n",
       "      <th>12C_Ecoli_20220321_004_20220322130235</th>\n",
       "      <th>13C_Ecoli_20220321_004</th>\n",
       "      <th>13C_Ecoli_20220321_004_20220322132355</th>\n",
       "      <th>13C_Ecoli_20220321_004_20220322101150</th>\n",
       "    </tr>\n",
       "    <tr>\n",
       "      <th>id_number</th>\n",
       "      <th></th>\n",
       "      <th></th>\n",
       "      <th></th>\n",
       "      <th></th>\n",
       "      <th></th>\n",
       "      <th></th>\n",
       "      <th></th>\n",
       "      <th></th>\n",
       "    </tr>\n",
       "  </thead>\n",
       "  <tbody>\n",
       "    <tr>\n",
       "      <th>F1</th>\n",
       "      <td>61.9278</td>\n",
       "      <td>40.94</td>\n",
       "      <td>42543</td>\n",
       "      <td>0</td>\n",
       "      <td>0</td>\n",
       "      <td>43369</td>\n",
       "      <td>60144</td>\n",
       "      <td>57714</td>\n",
       "    </tr>\n",
       "    <tr>\n",
       "      <th>F2</th>\n",
       "      <td>95.9735</td>\n",
       "      <td>125.06</td>\n",
       "      <td>2079328</td>\n",
       "      <td>984349</td>\n",
       "      <td>1314348</td>\n",
       "      <td>1707804</td>\n",
       "      <td>1299125</td>\n",
       "      <td>1159692</td>\n",
       "    </tr>\n",
       "    <tr>\n",
       "      <th>F3</th>\n",
       "      <td>115.9802</td>\n",
       "      <td>11.42</td>\n",
       "      <td>3362695</td>\n",
       "      <td>3228128</td>\n",
       "      <td>4076328</td>\n",
       "      <td>3201740</td>\n",
       "      <td>3942341</td>\n",
       "      <td>3326312</td>\n",
       "    </tr>\n",
       "    <tr>\n",
       "      <th>F4</th>\n",
       "      <td>115.9860</td>\n",
       "      <td>5.83</td>\n",
       "      <td>2035714</td>\n",
       "      <td>1739145</td>\n",
       "      <td>1978764</td>\n",
       "      <td>1977817</td>\n",
       "      <td>2040421</td>\n",
       "      <td>1642861</td>\n",
       "    </tr>\n",
       "    <tr>\n",
       "      <th>F5</th>\n",
       "      <td>115.9860</td>\n",
       "      <td>27.96</td>\n",
       "      <td>182603</td>\n",
       "      <td>219669</td>\n",
       "      <td>248607</td>\n",
       "      <td>199092</td>\n",
       "      <td>185630</td>\n",
       "      <td>185255</td>\n",
       "    </tr>\n",
       "  </tbody>\n",
       "</table>\n",
       "</div>"
      ],
      "text/plain": [
       "                 mz   rtime  12C_Ecoli_20220321_004  \\\n",
       "id_number                                             \n",
       "F1          61.9278   40.94                   42543   \n",
       "F2          95.9735  125.06                 2079328   \n",
       "F3         115.9802   11.42                 3362695   \n",
       "F4         115.9860    5.83                 2035714   \n",
       "F5         115.9860   27.96                  182603   \n",
       "\n",
       "           12C_Ecoli_20220321_004_20220322095030  \\\n",
       "id_number                                          \n",
       "F1                                             0   \n",
       "F2                                        984349   \n",
       "F3                                       3228128   \n",
       "F4                                       1739145   \n",
       "F5                                        219669   \n",
       "\n",
       "           12C_Ecoli_20220321_004_20220322130235  13C_Ecoli_20220321_004  \\\n",
       "id_number                                                                  \n",
       "F1                                             0                   43369   \n",
       "F2                                       1314348                 1707804   \n",
       "F3                                       4076328                 3201740   \n",
       "F4                                       1978764                 1977817   \n",
       "F5                                        248607                  199092   \n",
       "\n",
       "           13C_Ecoli_20220321_004_20220322132355  \\\n",
       "id_number                                          \n",
       "F1                                         60144   \n",
       "F2                                       1299125   \n",
       "F3                                       3942341   \n",
       "F4                                       2040421   \n",
       "F5                                        185630   \n",
       "\n",
       "           13C_Ecoli_20220321_004_20220322101150  \n",
       "id_number                                         \n",
       "F1                                         57714  \n",
       "F2                                       1159692  \n",
       "F3                                       3326312  \n",
       "F4                                       1642861  \n",
       "F5                                        185255  "
      ]
     },
     "execution_count": 4,
     "metadata": {},
     "output_type": "execute_result"
    }
   ],
   "source": [
    "# demo data are at https://github.com/shuzhao-li/khipu/tree/main/testdata/\n",
    "# Have a look via pd\n",
    "ecoli = pd.read_table(\"../Datasets/ecoli_pos.tsv\", index_col=0, sep=\"\\t\")\n",
    "ecoli.head()"
   ]
  },
  {
   "cell_type": "code",
   "execution_count": 5,
   "metadata": {},
   "outputs": [],
   "source": [
    "# t-test of each row between 12C and 13C samples\n",
    "# data are log2 transformed in this test to have more normal distribution; +1 to avoid log2(0)\n",
    "def ttest(row):\n",
    "    t,p = ttest_ind(np.log2(row[3:6]+1), np.log2(row[6:9]+1))\n",
    "    return p\n",
    "\n",
    "pvalues_featurelist = ecoli.apply(ttest, axis=1)\n"
   ]
  },
  {
   "cell_type": "code",
   "execution_count": 6,
   "metadata": {},
   "outputs": [
    {
     "data": {
      "text/plain": [
       "id_number\n",
       "F1039    4.028376e-13\n",
       "F2201    3.386336e-11\n",
       "F2955    4.471926e-11\n",
       "F1417    1.217689e-10\n",
       "F2675    2.118523e-10\n",
       "F2784    2.630405e-10\n",
       "F2663    8.330401e-10\n",
       "F2930    1.497729e-09\n",
       "F2874    2.037131e-09\n",
       "F3182    2.161996e-09\n",
       "dtype: float64"
      ]
     },
     "execution_count": 6,
     "metadata": {},
     "output_type": "execute_result"
    }
   ],
   "source": [
    "# sort p-values\n",
    "pvalues_featurelist = pvalues_featurelist.sort_values()\n",
    "pvalues_featurelist.head(10)"
   ]
  },
  {
   "cell_type": "code",
   "execution_count": 7,
   "metadata": {},
   "outputs": [
    {
     "data": {
      "text/plain": [
       "(73,)"
      ]
     },
     "execution_count": 7,
     "metadata": {},
     "output_type": "execute_result"
    }
   ],
   "source": [
    "# how many features have p < 0.001\n",
    "pvalues_featurelist[pvalues_featurelist<0.001].shape"
   ]
  },
  {
   "cell_type": "code",
   "execution_count": 8,
   "metadata": {},
   "outputs": [
    {
     "data": {
      "text/plain": [
       "(26,)"
      ]
     },
     "execution_count": 8,
     "metadata": {},
     "output_type": "execute_result"
    }
   ],
   "source": [
    "# in many situations you will need to perform some for of multiple testing correction.\n",
    "\n",
    "# bonferroni correction is most straightforward, simply multiply the p-values by the number of p-values\n",
    "\n",
    "pvalues_featurelist_bonferroni = pvalues_featurelist * len(pvalues_featurelist)\n",
    "pvalues_featurelist_bonferroni[pvalues_featurelist_bonferroni<0.001].shape"
   ]
  },
  {
   "cell_type": "code",
   "execution_count": 9,
   "metadata": {},
   "outputs": [
    {
     "name": "stdout",
     "output_type": "stream",
     "text": [
      "1.4248366846058156e-09\n",
      "5.272400732087582e-08\n",
      "5.272400732087582e-08\n",
      "1.0767415443653224e-07\n",
      "1.4986430227295902e-07\n",
      "1.5506237324837282e-07\n",
      "4.2092325342867044e-07\n",
      "6.621835489965146e-07\n",
      "7.646978620707893e-07\n",
      "7.646978620707893e-07\n"
     ]
    }
   ],
   "source": [
    "# FDR correction rather than bonferroni often will preserve statistical power better than bonferroni.\n",
    "# note that we must remove any zero values from the p-value list for these procedures.\n",
    "\n",
    "from statsmodels.stats.multitest import fdrcorrection\n",
    "\n",
    "significant, q_vals = fdrcorrection([x for x in pvalues_featurelist if x > 0], 0.001)\n",
    "print(\"\\n\".join([str(x) for x in sorted(q_vals)][:10]))\n",
    "\n",
    "# by default this performs a benjamini-hochberg correction, other versions of the correction\n",
    "# can be performed using options passed to fdrcorrection."
   ]
  },
  {
   "cell_type": "code",
   "execution_count": 10,
   "metadata": {},
   "outputs": [],
   "source": [
    "# alternatively, a non-parametric test could be used. \n",
    "\n",
    "def mwutest(row):\n",
    "    t,p = mannwhitneyu(np.log2(row[3:6]+1), np.log2(row[6:9]+1))\n",
    "    return p\n",
    "\n",
    "pvalues_featurelist_nonpara = ecoli.apply(mwutest, axis=1)"
   ]
  },
  {
   "cell_type": "code",
   "execution_count": 38,
   "metadata": {},
   "outputs": [
    {
     "data": {
      "text/plain": [
       "id_number\n",
       "F1495    0.106583\n",
       "F2706    0.106583\n",
       "F2707    0.106583\n",
       "F3024    0.106583\n",
       "F3022    0.106583\n",
       "F1508    0.106583\n",
       "F2711    0.106583\n",
       "F1496    0.106583\n",
       "F1843    0.106583\n",
       "F3180    0.106583\n",
       "dtype: float64"
      ]
     },
     "execution_count": 38,
     "metadata": {},
     "output_type": "execute_result"
    }
   ],
   "source": [
    "# sort p-values\n",
    "pvalues_featurelist_nonpara = pvalues_featurelist_nonpara.sort_values()\n",
    "pvalues_featurelist_nonpara.head(10)"
   ]
  },
  {
   "cell_type": "code",
   "execution_count": 1,
   "metadata": {},
   "outputs": [],
   "source": [
    "# Oh no, none of the p-values are significant!!!! that's because we only have three \n",
    "# samples per group and a significant result is impossible. \n",
    "# this was intentional, to highlight the challenges that may arise using non-parametric stats."
   ]
  },
  {
   "cell_type": "code",
   "execution_count": 19,
   "metadata": {},
   "outputs": [
    {
     "name": "stdout",
     "output_type": "stream",
     "text": [
      "(3602, 0)\n"
     ]
    },
    {
     "ename": "ValueError",
     "evalue": "at least one array or dtype is required",
     "output_type": "error",
     "traceback": [
      "\u001b[0;31m---------------------------------------------------------------------------\u001b[0m",
      "\u001b[0;31mValueError\u001b[0m                                Traceback (most recent call last)",
      "\u001b[1;32m/Users/mitchjo/MANA2024/Module 3 - Common Statistical Tests and Plots/3.1.Statistical Testing.ipynb Cell 12\u001b[0m line \u001b[0;36m4\n\u001b[1;32m      <a href='vscode-notebook-cell:/Users/mitchjo/MANA2024/Module%203%20-%20Common%20Statistical%20Tests%20and%20Plots/3.1.Statistical%20Testing.ipynb#X15sZmlsZQ%3D%3D?line=1'>2</a>\u001b[0m \u001b[39mprint\u001b[39m(ft2\u001b[39m.\u001b[39mshape)\n\u001b[1;32m      <a href='vscode-notebook-cell:/Users/mitchjo/MANA2024/Module%203%20-%20Common%20Statistical%20Tests%20and%20Plots/3.1.Statistical%20Testing.ipynb#X15sZmlsZQ%3D%3D?line=2'>3</a>\u001b[0m scaler \u001b[39m=\u001b[39m StandardScaler()\n\u001b[0;32m----> <a href='vscode-notebook-cell:/Users/mitchjo/MANA2024/Module%203%20-%20Common%20Statistical%20Tests%20and%20Plots/3.1.Statistical%20Testing.ipynb#X15sZmlsZQ%3D%3D?line=3'>4</a>\u001b[0m x \u001b[39m=\u001b[39m scaler\u001b[39m.\u001b[39;49mfit_transform(ft2\u001b[39m+\u001b[39;49m\u001b[39m1\u001b[39;49m) \u001b[39m# scale all features to have unit mean and equal variance\u001b[39;00m\n",
      "File \u001b[0;32m~/Library/Python/3.9/lib/python/site-packages/sklearn/utils/_set_output.py:157\u001b[0m, in \u001b[0;36m_wrap_method_output.<locals>.wrapped\u001b[0;34m(self, X, *args, **kwargs)\u001b[0m\n\u001b[1;32m    155\u001b[0m \u001b[39m@wraps\u001b[39m(f)\n\u001b[1;32m    156\u001b[0m \u001b[39mdef\u001b[39;00m \u001b[39mwrapped\u001b[39m(\u001b[39mself\u001b[39m, X, \u001b[39m*\u001b[39margs, \u001b[39m*\u001b[39m\u001b[39m*\u001b[39mkwargs):\n\u001b[0;32m--> 157\u001b[0m     data_to_wrap \u001b[39m=\u001b[39m f(\u001b[39mself\u001b[39;49m, X, \u001b[39m*\u001b[39;49margs, \u001b[39m*\u001b[39;49m\u001b[39m*\u001b[39;49mkwargs)\n\u001b[1;32m    158\u001b[0m     \u001b[39mif\u001b[39;00m \u001b[39misinstance\u001b[39m(data_to_wrap, \u001b[39mtuple\u001b[39m):\n\u001b[1;32m    159\u001b[0m         \u001b[39m# only wrap the first output for cross decomposition\u001b[39;00m\n\u001b[1;32m    160\u001b[0m         return_tuple \u001b[39m=\u001b[39m (\n\u001b[1;32m    161\u001b[0m             _wrap_data_with_container(method, data_to_wrap[\u001b[39m0\u001b[39m], X, \u001b[39mself\u001b[39m),\n\u001b[1;32m    162\u001b[0m             \u001b[39m*\u001b[39mdata_to_wrap[\u001b[39m1\u001b[39m:],\n\u001b[1;32m    163\u001b[0m         )\n",
      "File \u001b[0;32m~/Library/Python/3.9/lib/python/site-packages/sklearn/base.py:916\u001b[0m, in \u001b[0;36mTransformerMixin.fit_transform\u001b[0;34m(self, X, y, **fit_params)\u001b[0m\n\u001b[1;32m    912\u001b[0m \u001b[39m# non-optimized default implementation; override when a better\u001b[39;00m\n\u001b[1;32m    913\u001b[0m \u001b[39m# method is possible for a given clustering algorithm\u001b[39;00m\n\u001b[1;32m    914\u001b[0m \u001b[39mif\u001b[39;00m y \u001b[39mis\u001b[39;00m \u001b[39mNone\u001b[39;00m:\n\u001b[1;32m    915\u001b[0m     \u001b[39m# fit method of arity 1 (unsupervised transformation)\u001b[39;00m\n\u001b[0;32m--> 916\u001b[0m     \u001b[39mreturn\u001b[39;00m \u001b[39mself\u001b[39;49m\u001b[39m.\u001b[39;49mfit(X, \u001b[39m*\u001b[39;49m\u001b[39m*\u001b[39;49mfit_params)\u001b[39m.\u001b[39mtransform(X)\n\u001b[1;32m    917\u001b[0m \u001b[39melse\u001b[39;00m:\n\u001b[1;32m    918\u001b[0m     \u001b[39m# fit method of arity 2 (supervised transformation)\u001b[39;00m\n\u001b[1;32m    919\u001b[0m     \u001b[39mreturn\u001b[39;00m \u001b[39mself\u001b[39m\u001b[39m.\u001b[39mfit(X, y, \u001b[39m*\u001b[39m\u001b[39m*\u001b[39mfit_params)\u001b[39m.\u001b[39mtransform(X)\n",
      "File \u001b[0;32m~/Library/Python/3.9/lib/python/site-packages/sklearn/preprocessing/_data.py:839\u001b[0m, in \u001b[0;36mStandardScaler.fit\u001b[0;34m(self, X, y, sample_weight)\u001b[0m\n\u001b[1;32m    837\u001b[0m \u001b[39m# Reset internal state before fitting\u001b[39;00m\n\u001b[1;32m    838\u001b[0m \u001b[39mself\u001b[39m\u001b[39m.\u001b[39m_reset()\n\u001b[0;32m--> 839\u001b[0m \u001b[39mreturn\u001b[39;00m \u001b[39mself\u001b[39;49m\u001b[39m.\u001b[39;49mpartial_fit(X, y, sample_weight)\n",
      "File \u001b[0;32m~/Library/Python/3.9/lib/python/site-packages/sklearn/base.py:1152\u001b[0m, in \u001b[0;36m_fit_context.<locals>.decorator.<locals>.wrapper\u001b[0;34m(estimator, *args, **kwargs)\u001b[0m\n\u001b[1;32m   1145\u001b[0m     estimator\u001b[39m.\u001b[39m_validate_params()\n\u001b[1;32m   1147\u001b[0m \u001b[39mwith\u001b[39;00m config_context(\n\u001b[1;32m   1148\u001b[0m     skip_parameter_validation\u001b[39m=\u001b[39m(\n\u001b[1;32m   1149\u001b[0m         prefer_skip_nested_validation \u001b[39mor\u001b[39;00m global_skip_validation\n\u001b[1;32m   1150\u001b[0m     )\n\u001b[1;32m   1151\u001b[0m ):\n\u001b[0;32m-> 1152\u001b[0m     \u001b[39mreturn\u001b[39;00m fit_method(estimator, \u001b[39m*\u001b[39;49margs, \u001b[39m*\u001b[39;49m\u001b[39m*\u001b[39;49mkwargs)\n",
      "File \u001b[0;32m~/Library/Python/3.9/lib/python/site-packages/sklearn/preprocessing/_data.py:875\u001b[0m, in \u001b[0;36mStandardScaler.partial_fit\u001b[0;34m(self, X, y, sample_weight)\u001b[0m\n\u001b[1;32m    843\u001b[0m \u001b[39m\u001b[39m\u001b[39m\"\"\"Online computation of mean and std on X for later scaling.\u001b[39;00m\n\u001b[1;32m    844\u001b[0m \n\u001b[1;32m    845\u001b[0m \u001b[39mAll of X is processed as a single batch. This is intended for cases\u001b[39;00m\n\u001b[0;32m   (...)\u001b[0m\n\u001b[1;32m    872\u001b[0m \u001b[39m    Fitted scaler.\u001b[39;00m\n\u001b[1;32m    873\u001b[0m \u001b[39m\"\"\"\u001b[39;00m\n\u001b[1;32m    874\u001b[0m first_call \u001b[39m=\u001b[39m \u001b[39mnot\u001b[39;00m \u001b[39mhasattr\u001b[39m(\u001b[39mself\u001b[39m, \u001b[39m\"\u001b[39m\u001b[39mn_samples_seen_\u001b[39m\u001b[39m\"\u001b[39m)\n\u001b[0;32m--> 875\u001b[0m X \u001b[39m=\u001b[39m \u001b[39mself\u001b[39;49m\u001b[39m.\u001b[39;49m_validate_data(\n\u001b[1;32m    876\u001b[0m     X,\n\u001b[1;32m    877\u001b[0m     accept_sparse\u001b[39m=\u001b[39;49m(\u001b[39m\"\u001b[39;49m\u001b[39mcsr\u001b[39;49m\u001b[39m\"\u001b[39;49m, \u001b[39m\"\u001b[39;49m\u001b[39mcsc\u001b[39;49m\u001b[39m\"\u001b[39;49m),\n\u001b[1;32m    878\u001b[0m     dtype\u001b[39m=\u001b[39;49mFLOAT_DTYPES,\n\u001b[1;32m    879\u001b[0m     force_all_finite\u001b[39m=\u001b[39;49m\u001b[39m\"\u001b[39;49m\u001b[39mallow-nan\u001b[39;49m\u001b[39m\"\u001b[39;49m,\n\u001b[1;32m    880\u001b[0m     reset\u001b[39m=\u001b[39;49mfirst_call,\n\u001b[1;32m    881\u001b[0m )\n\u001b[1;32m    882\u001b[0m n_features \u001b[39m=\u001b[39m X\u001b[39m.\u001b[39mshape[\u001b[39m1\u001b[39m]\n\u001b[1;32m    884\u001b[0m \u001b[39mif\u001b[39;00m sample_weight \u001b[39mis\u001b[39;00m \u001b[39mnot\u001b[39;00m \u001b[39mNone\u001b[39;00m:\n",
      "File \u001b[0;32m~/Library/Python/3.9/lib/python/site-packages/sklearn/base.py:605\u001b[0m, in \u001b[0;36mBaseEstimator._validate_data\u001b[0;34m(self, X, y, reset, validate_separately, cast_to_ndarray, **check_params)\u001b[0m\n\u001b[1;32m    603\u001b[0m         out \u001b[39m=\u001b[39m X, y\n\u001b[1;32m    604\u001b[0m \u001b[39melif\u001b[39;00m \u001b[39mnot\u001b[39;00m no_val_X \u001b[39mand\u001b[39;00m no_val_y:\n\u001b[0;32m--> 605\u001b[0m     out \u001b[39m=\u001b[39m check_array(X, input_name\u001b[39m=\u001b[39;49m\u001b[39m\"\u001b[39;49m\u001b[39mX\u001b[39;49m\u001b[39m\"\u001b[39;49m, \u001b[39m*\u001b[39;49m\u001b[39m*\u001b[39;49mcheck_params)\n\u001b[1;32m    606\u001b[0m \u001b[39melif\u001b[39;00m no_val_X \u001b[39mand\u001b[39;00m \u001b[39mnot\u001b[39;00m no_val_y:\n\u001b[1;32m    607\u001b[0m     out \u001b[39m=\u001b[39m _check_y(y, \u001b[39m*\u001b[39m\u001b[39m*\u001b[39mcheck_params)\n",
      "File \u001b[0;32m~/Library/Python/3.9/lib/python/site-packages/sklearn/utils/validation.py:795\u001b[0m, in \u001b[0;36mcheck_array\u001b[0;34m(array, accept_sparse, accept_large_sparse, dtype, order, copy, force_all_finite, ensure_2d, allow_nd, ensure_min_samples, ensure_min_features, estimator, input_name)\u001b[0m\n\u001b[1;32m    791\u001b[0m pandas_requires_conversion \u001b[39m=\u001b[39m \u001b[39many\u001b[39m(\n\u001b[1;32m    792\u001b[0m     _pandas_dtype_needs_early_conversion(i) \u001b[39mfor\u001b[39;00m i \u001b[39min\u001b[39;00m dtypes_orig\n\u001b[1;32m    793\u001b[0m )\n\u001b[1;32m    794\u001b[0m \u001b[39mif\u001b[39;00m \u001b[39mall\u001b[39m(\u001b[39misinstance\u001b[39m(dtype_iter, np\u001b[39m.\u001b[39mdtype) \u001b[39mfor\u001b[39;00m dtype_iter \u001b[39min\u001b[39;00m dtypes_orig):\n\u001b[0;32m--> 795\u001b[0m     dtype_orig \u001b[39m=\u001b[39m np\u001b[39m.\u001b[39;49mresult_type(\u001b[39m*\u001b[39;49mdtypes_orig)\n\u001b[1;32m    796\u001b[0m \u001b[39melif\u001b[39;00m pandas_requires_conversion \u001b[39mand\u001b[39;00m \u001b[39many\u001b[39m(d \u001b[39m==\u001b[39m \u001b[39mobject\u001b[39m \u001b[39mfor\u001b[39;00m d \u001b[39min\u001b[39;00m dtypes_orig):\n\u001b[1;32m    797\u001b[0m     \u001b[39m# Force object if any of the dtypes is an object\u001b[39;00m\n\u001b[1;32m    798\u001b[0m     dtype_orig \u001b[39m=\u001b[39m \u001b[39mobject\u001b[39m\n",
      "File \u001b[0;32m<__array_function__ internals>:200\u001b[0m, in \u001b[0;36mresult_type\u001b[0;34m(*args, **kwargs)\u001b[0m\n",
      "\u001b[0;31mValueError\u001b[0m: at least one array or dtype is required"
     ]
    }
   ],
   "source": [
    "ft2 = ecoli[ecoli.columns[11:]]\n",
    "print(ft2.shape)\n",
    "scaler = StandardScaler()\n",
    "x = scaler.fit_transform(ft2+1) # scale all features to have unit mean and equal variance"
   ]
  }
 ],
 "metadata": {
  "kernelspec": {
   "display_name": "Python 3",
   "language": "python",
   "name": "python3"
  },
  "language_info": {
   "codemirror_mode": {
    "name": "ipython",
    "version": 3
   },
   "file_extension": ".py",
   "mimetype": "text/x-python",
   "name": "python",
   "nbconvert_exporter": "python",
   "pygments_lexer": "ipython3",
   "version": "3.9.6"
  }
 },
 "nbformat": 4,
 "nbformat_minor": 2
}
