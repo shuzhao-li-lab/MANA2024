{
 "cells": [
  {
   "cell_type": "markdown",
   "metadata": {},
   "source": [
    "# Statistical Testing for Metabolomics\n",
    "\n",
    "In this module we will review common statistical tests performed on metabolomics data. "
   ]
  },
  {
   "cell_type": "markdown",
   "metadata": {},
   "source": [
    "<a href=\"https://colab.research.google.com/drive/1skA1e0nS6qlHzMsP1IA44oPTmkWeyrep?usp=sharing\" target=\"_parent\"><img src=\"https://colab.research.google.com/assets/colab-badge.svg\" alt=\"Open In Colab\"/></a>"
   ]
  },
  {
   "cell_type": "code",
   "execution_count": null,
   "metadata": {},
   "outputs": [],
   "source": [
    "import pandas as pd\n",
    "import numpy as np\n",
    "import matplotlib.pyplot as plt\n",
    "from scipy.stats import ttest_ind, mannwhitneyu\n",
    "from sklearn.preprocessing import StandardScaler # for preprocesssing data before PCA\n",
    "from sklearn.decomposition import PCA"
   ]
  },
  {
   "cell_type": "code",
   "execution_count": null,
   "metadata": {},
   "outputs": [],
   "source": [
    "# demo data are at https://github.com/shuzhao-li/khipu/tree/main/testdata/\n",
    "# Have a look via pd\n",
    "ecoli = pd.read_table(\"../Datasets/ecoli_pos.tsv\", index_col=0, sep=\"\\t\")\n",
    "ecoli.head()"
   ]
  },
  {
   "cell_type": "code",
   "execution_count": null,
   "metadata": {},
   "outputs": [],
   "source": [
    "# t-test of each row between 12C and 13C samples\n",
    "# data are log2 transformed in this test to have more normal distribution; +1 to avoid log2(0)\n",
    "def ttest(row):\n",
    "    t,p = ttest_ind(np.log2(row[3:6]+1), np.log2(row[6:9]+1))\n",
    "    return p\n",
    "\n",
    "pvalues_featurelist = ecoli.apply(ttest, axis=1)\n"
   ]
  },
  {
   "cell_type": "code",
   "execution_count": null,
   "metadata": {},
   "outputs": [],
   "source": [
    "# sort p-values\n",
    "pvalues_featurelist = pvalues_featurelist.sort_values()\n",
    "pvalues_featurelist.head(10)"
   ]
  },
  {
   "cell_type": "code",
   "execution_count": null,
   "metadata": {},
   "outputs": [],
   "source": [
    "# how many features have p < 0.001\n",
    "pvalues_featurelist[pvalues_featurelist<0.001].shape"
   ]
  },
  {
   "cell_type": "code",
   "execution_count": null,
   "metadata": {},
   "outputs": [],
   "source": [
    "# in many situations you will need to perform some for of multiple testing correction.\n",
    "\n",
    "# bonferroni correction is most straightforward, simply multiply the p-values by the number of p-values\n",
    "\n",
    "pvalues_featurelist_bonferroni = pvalues_featurelist * len(pvalues_featurelist)\n",
    "pvalues_featurelist_bonferroni[pvalues_featurelist_bonferroni<0.001].shape"
   ]
  },
  {
   "cell_type": "code",
   "execution_count": null,
   "metadata": {},
   "outputs": [],
   "source": [
    "# FDR correction rather than bonferroni often will preserve statistical power better than bonferroni.\n",
    "# note that we must remove any zero values from the p-value list for these procedures.\n",
    "\n",
    "from statsmodels.stats.multitest import fdrcorrection\n",
    "\n",
    "significant, q_vals = fdrcorrection([x for x in pvalues_featurelist if x > 0], 0.001)\n",
    "print(\"\\n\".join([str(x) for x in sorted(q_vals)][:10]))\n",
    "\n",
    "# by default this performs a benjamini-hochberg correction, other versions of the correction\n",
    "# can be performed using options passed to fdrcorrection."
   ]
  },
  {
   "cell_type": "code",
   "execution_count": null,
   "metadata": {},
   "outputs": [],
   "source": [
    "# alternatively, a non-parametric test could be used. \n",
    "\n",
    "def mwutest(row):\n",
    "    t,p = mannwhitneyu(np.log2(row[3:6]+1), np.log2(row[6:9]+1))\n",
    "    return p\n",
    "\n",
    "pvalues_featurelist_nonpara = ecoli.apply(mwutest, axis=1)"
   ]
  },
  {
   "cell_type": "code",
   "execution_count": null,
   "metadata": {},
   "outputs": [],
   "source": [
    "# sort p-values\n",
    "pvalues_featurelist_nonpara = pvalues_featurelist_nonpara.sort_values()\n",
    "pvalues_featurelist_nonpara.head(10)"
   ]
  },
  {
   "cell_type": "code",
   "execution_count": null,
   "metadata": {},
   "outputs": [],
   "source": [
    "# Oh no, none of the p-values are significant!!!! that's because we only have three \n",
    "# samples per group and a significant result is impossible. \n",
    "# this was intentional, to highlight the challenges that may arise using non-parametric stats."
   ]
  }
 ],
 "metadata": {
  "kernelspec": {
   "display_name": "Python 3",
   "language": "python",
   "name": "python3"
  },
  "language_info": {
   "codemirror_mode": {
    "name": "ipython",
    "version": 3
   },
   "file_extension": ".py",
   "mimetype": "text/x-python",
   "name": "python",
   "nbconvert_exporter": "python",
   "pygments_lexer": "ipython3",
   "version": "3.9.6"
  }
 },
 "nbformat": 4,
 "nbformat_minor": 2
}
