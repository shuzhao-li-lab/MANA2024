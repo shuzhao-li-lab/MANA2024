{
 "cells": [
  {
   "cell_type": "markdown",
   "metadata": {},
   "source": [
    "# Illustration of LC-MS concepts\n",
    "\n",
    "We use pymzml library to read an mzML file, and matplotlib library to visualize the data."
   ]
  },
  {
   "cell_type": "markdown",
   "metadata": {},
   "source": [
    "<a href=\"https://colab.research.google.com/drive/17KDWNRKXREMxTn5Apamn25vKNaV1gtYq?usp=sharing\" target=\"_parent\"><img src=\"https://colab.research.google.com/assets/colab-badge.svg\" alt=\"Open In Colab\"/></a>"
   ]
  },
  {
   "cell_type": "code",
   "execution_count": null,
   "metadata": {},
   "outputs": [],
   "source": [
    "# install as needed\n",
    "\n",
    "!pip3 install asari-metabolomics"
   ]
  },
  {
   "cell_type": "code",
   "execution_count": null,
   "metadata": {},
   "outputs": [],
   "source": [
    "# for this example, lets use the MT02 dataset which is a set of acquisitions collected on human plasma. \n",
    "\n",
    "!ls ../Datasets/MT02Dataset/"
   ]
  },
  {
   "cell_type": "code",
   "execution_count": null,
   "metadata": {},
   "outputs": [],
   "source": [
    "import pymzml\n",
    "import matplotlib.pyplot as plt"
   ]
  },
  {
   "cell_type": "markdown",
   "metadata": {},
   "source": [
    "## Read spectra and visualize a spectrum"
   ]
  },
  {
   "cell_type": "code",
   "execution_count": null,
   "metadata": {},
   "outputs": [],
   "source": [
    "infile = '../Datasets/MT02Dataset/batch14_MT_20210808_181.mzML'\n",
    "\n",
    "# This reads the mzML file. Warnings can be ignored. \n",
    "sample181 = pymzml.run.Reader(infile)\n",
    "\n",
    "# Get spectra\n",
    "spectra = [x for x in sample181]\n",
    "\n",
    "# How many \n",
    "len(spectra)"
   ]
  },
  {
   "cell_type": "code",
   "execution_count": null,
   "metadata": {},
   "outputs": [],
   "source": [
    "# Visualizing a spectrum, let's use scan number 100\n",
    "scan_number = 100\n",
    "sc = spectra[scan_number-1]\n",
    "\n",
    "print(\"Retention time (minute): \", sc.scan_time_in_minutes(),\n",
    "      \"\\n\",\n",
    "      \"Number of data points: \", len(sc.mz))\n",
    " \n",
    "plt.plot(sc.mz, sc.i)\n",
    "plt.xlabel(\"m/z\")\n",
    "plt.ylabel(\"intensity\")\n",
    "plt.title(\"Spectrum, scan number %d\" %scan_number)"
   ]
  },
  {
   "cell_type": "code",
   "execution_count": null,
   "metadata": {},
   "outputs": [],
   "source": [
    "# Zoom into the middle region\n",
    "start, end = 400, 600\n",
    "\n",
    "plt.plot(sc.mz[start: end], sc.i[start: end])\n",
    "plt.xlabel(\"m/z\")\n",
    "plt.ylabel(\"intensity\")\n",
    "plt.title(\"Zoom in\")"
   ]
  },
  {
   "cell_type": "markdown",
   "metadata": {},
   "source": [
    "## Visualizing EIC using asari\n",
    "\n",
    "Asari is a software package for MS metabolomic data processing.\n",
    "\n",
    "Asari uses \"mass tracks\", which are EICs (extracted ion chromatograms) in full length of chromatography."
   ]
  },
  {
   "cell_type": "code",
   "execution_count": null,
   "metadata": {},
   "outputs": [],
   "source": [
    "from asari import chromatograms as ch"
   ]
  },
  {
   "cell_type": "code",
   "execution_count": null,
   "metadata": {},
   "outputs": [],
   "source": [
    "mass_tracks = ch.extract_massTracks_(sample181)\n",
    "\n",
    "# What's in mass_tracks\n",
    "print(mass_tracks.keys())\n",
    "\n",
    "# How many EICs\n",
    "print(len(mass_tracks['tracks']))"
   ]
  },
  {
   "cell_type": "code",
   "execution_count": null,
   "metadata": {},
   "outputs": [],
   "source": [
    "# What's in a mass track - say, mass track number 731\n",
    "mass_tracks['tracks'][731]"
   ]
  },
  {
   "cell_type": "code",
   "execution_count": null,
   "metadata": {},
   "outputs": [],
   "source": [
    "# Define figure size\n",
    "plt.figure(figsize=(9, 3))\n",
    "\n",
    "plt.plot(mass_tracks['rt_times'], mass_tracks['tracks'][731][1])\n",
    "plt.xlabel(\"retention time (s)\")\n",
    "plt.ylabel(\"intensity\")\n",
    "plt.title(\"m/z 150.0584\")"
   ]
  },
  {
   "cell_type": "markdown",
   "metadata": {},
   "source": [
    "## Use asari to get stats on a mzML file"
   ]
  },
  {
   "cell_type": "code",
   "execution_count": null,
   "metadata": {},
   "outputs": [],
   "source": [
    "from asari.analyze import analyze_single_sample\n",
    "from asari.default_parameters import PARAMETERS"
   ]
  },
  {
   "cell_type": "code",
   "execution_count": null,
   "metadata": {},
   "outputs": [],
   "source": [
    "analyze_single_sample(infile, parameters=PARAMETERS)\n",
    "           "
   ]
  },
  {
   "cell_type": "markdown",
   "metadata": {},
   "source": [
    "## Module Summary\n",
    "\n",
    "We have examined a spectrum in a human plasma sample (batch14_MT_20210808_181.mzML, Qstd, HILICpos).\n",
    "\n",
    "We have used asari to extract mass tracks and visualized one of them.\n",
    "\n",
    "Statistics of mass tracks on a single file was demonstrated by using asari. This can be done by running asari command line too."
   ]
  }
 ],
 "metadata": {
  "kernelspec": {
   "display_name": "base",
   "language": "python",
   "name": "python3"
  },
  "language_info": {
   "codemirror_mode": {
    "name": "ipython",
    "version": 3
   },
   "file_extension": ".py",
   "mimetype": "text/x-python",
   "name": "python",
   "nbconvert_exporter": "python",
   "pygments_lexer": "ipython3",
   "version": "3.9.6"
  }
 },
 "nbformat": 4,
 "nbformat_minor": 2
}
