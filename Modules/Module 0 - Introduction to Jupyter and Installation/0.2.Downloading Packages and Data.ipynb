{
 "cells": [
  {
   "cell_type": "code",
   "execution_count": null,
   "metadata": {
    "vscode": {
     "languageId": "shellscript"
    }
   },
   "outputs": [],
   "source": [
    "# this notebook is not needed for the workshop but will install the packages and tools used in the workshop on your machine for reuse.\n",
    "# there is also functionality to download datasets for testing in the notebook."
   ]
  },
  {
   "cell_type": "code",
   "execution_count": null,
   "metadata": {
    "vscode": {
     "languageId": "shellscript"
    }
   },
   "outputs": [],
   "source": [
    "!pip3 install asari-metabolomics numpy pandas khipu-metabolomics scipy scikit-learn"
   ]
  },
  {
   "cell_type": "code",
   "execution_count": null,
   "metadata": {},
   "outputs": [],
   "source": [
    "# lets download the MT02 dataset for notebooks in Module 1\n",
    "\n",
    "\n",
    "import requests, zipfile, io\n",
    "\n",
    "r = requests.get(\"https://github.com/shuzhao-li-lab/data/raw/main/data/MT02Dataset.zip\")\n",
    "z = zipfile.ZipFile(io.BytesIO(r.content))\n",
    "z.extractall(\"../../Datasets/\")"
   ]
  },
  {
   "cell_type": "code",
   "execution_count": null,
   "metadata": {},
   "outputs": [],
   "source": [
    "# lets download a stable isotope tracing dataset for use in Module 2\n",
    "import os\n",
    "\n",
    "module_2_data = [\n",
    "    \"https://raw.githubusercontent.com/shuzhao-li-lab/khipu/refs/heads/main/testdata/yeast_pos_full.tsv\",\n",
    "    \"https://raw.githubusercontent.com/shuzhao-li-lab/khipu/refs/heads/main/testdata/ecoli_pos.tsv\",\n",
    "    \"https://github.com/shuzhao-li-lab/khipu/blob/main/testdata/yeast_neg.tsv\"\n",
    "]\n",
    "\n",
    "for dataset in module_2_data:\n",
    "    r = requests.get(dataset)\n",
    "    with open(\"../../Datasets/\" + os.path.basename(dataset), 'bw+') as out_fh:\n",
    "        out_fh.write(r.content)"
   ]
  },
  {
   "cell_type": "code",
   "execution_count": null,
   "metadata": {},
   "outputs": [],
   "source": [
    "# now lets download the data for this test. Here we will use a slightly different\n",
    "# example. This has one e.coli file and a failed injection included.\n",
    "\n",
    "import requests, zipfile, io\n",
    "r = requests.get(\"https://github.com/shuzhao-li-lab/asari_pcpfm_tutorials/releases/download/v.data_release_0.0.1-alpha/MT01.zip\")\n",
    "z = zipfile.ZipFile(io.BytesIO(r.content))\n",
    "z.extractall(\"../../Datasets/\")\n",
    "\n",
    "r = requests.get(\"https://github.com/shuzhao-li-lab/asari_pcpfm_tutorials/releases/download/v.data_release_0.0.1-alpha/MT01_MS2.zip\")\n",
    "z = zipfile.ZipFile(io.BytesIO(r.content))\n",
    "z.extractall(\"../../Datasets/\")"
   ]
  },
  {
   "cell_type": "code",
   "execution_count": null,
   "metadata": {},
   "outputs": [],
   "source": []
  }
 ],
 "metadata": {
  "kernelspec": {
   "display_name": "Python 3",
   "language": "python",
   "name": "python3"
  },
  "language_info": {
   "codemirror_mode": {
    "name": "ipython",
    "version": 3
   },
   "file_extension": ".py",
   "mimetype": "text/x-python",
   "name": "python",
   "nbconvert_exporter": "python",
   "pygments_lexer": "ipython3",
   "version": "3.9.6"
  }
 },
 "nbformat": 4,
 "nbformat_minor": 2
}
