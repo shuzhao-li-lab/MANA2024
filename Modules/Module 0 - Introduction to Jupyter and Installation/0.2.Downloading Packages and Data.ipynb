{
 "cells": [
  {
   "cell_type": "markdown",
   "metadata": {
    "vscode": {
     "languageId": "shellscript"
    }
   },
   "source": [
    "# Installing Software and Downloading Data\n",
    "\n",
    "This notebook will install the necessary software to run the tutorials and use the pcpfm\n",
    "We assume that you have a working Python3 interpreter and jupyter notebook installed, if that is not the case, follow the instructions in the readme to install them."
   ]
  },
  {
   "cell_type": "markdown",
   "metadata": {},
   "source": [
    "## Softare Installation"
   ]
  },
  {
   "cell_type": "code",
   "execution_count": 16,
   "metadata": {
    "vscode": {
     "languageId": "shellscript"
    }
   },
   "outputs": [
    {
     "name": "stdout",
     "output_type": "stream",
     "text": [
      "Defaulting to user installation because normal site-packages is not writeable\n",
      "Requirement already satisfied: asari-metabolomics in /Users/mitchjo/Library/Python/3.9/lib/python/site-packages (1.13.1)\n",
      "Requirement already satisfied: numpy in /Users/mitchjo/Library/Python/3.9/lib/python/site-packages (1.24.4)\n",
      "Requirement already satisfied: pandas in /Users/mitchjo/Library/Python/3.9/lib/python/site-packages (2.1.3)\n",
      "Requirement already satisfied: khipu-metabolomics in /Users/mitchjo/Library/Python/3.9/lib/python/site-packages (2.0.2)\n",
      "Requirement already satisfied: scipy in /Users/mitchjo/Library/Python/3.9/lib/python/site-packages (1.13.1)\n",
      "Requirement already satisfied: scikit-learn in /Users/mitchjo/Library/Python/3.9/lib/python/site-packages (1.3.2)\n",
      "Requirement already satisfied: matplotlib in /Users/mitchjo/Library/Python/3.9/lib/python/site-packages (3.8.2)\n",
      "Requirement already satisfied: seaborn in /Users/mitchjo/Library/Python/3.9/lib/python/site-packages (0.13.0)\n",
      "Requirement already satisfied: pcpfm in /Users/mitchjo/Library/Python/3.9/lib/python/site-packages (1.0.19)\n",
      "Requirement already satisfied: metDatamodel in /Users/mitchjo/Library/Python/3.9/lib/python/site-packages (from asari-metabolomics) (0.6.1)\n",
      "Requirement already satisfied: mass2chem in /Users/mitchjo/Library/Python/3.9/lib/python/site-packages (from asari-metabolomics) (0.4.9)\n",
      "Requirement already satisfied: jms-metabolite-services>=0.5.7 in /Users/mitchjo/Library/Python/3.9/lib/python/site-packages (from asari-metabolomics) (0.5.8)\n",
      "Requirement already satisfied: pymzml in /Users/mitchjo/Library/Python/3.9/lib/python/site-packages (from asari-metabolomics) (2.5.2)\n",
      "Requirement already satisfied: statsmodels in /Users/mitchjo/Library/Python/3.9/lib/python/site-packages (from asari-metabolomics) (0.14.0)\n",
      "Requirement already satisfied: pyyaml in /Users/mitchjo/Library/Python/3.9/lib/python/site-packages (from asari-metabolomics) (6.0.1)\n",
      "Requirement already satisfied: panel>=0.13.0 in /Users/mitchjo/Library/Python/3.9/lib/python/site-packages (from asari-metabolomics) (1.3.4)\n",
      "Requirement already satisfied: holoviews in /Users/mitchjo/Library/Python/3.9/lib/python/site-packages (from asari-metabolomics) (1.18.1)\n",
      "Requirement already satisfied: hvplot in /Users/mitchjo/Library/Python/3.9/lib/python/site-packages (from asari-metabolomics) (0.9.0)\n",
      "Requirement already satisfied: python-dateutil>=2.8.2 in /Users/mitchjo/Library/Python/3.9/lib/python/site-packages (from pandas) (2.8.2)\n",
      "Requirement already satisfied: pytz>=2020.1 in /Users/mitchjo/Library/Python/3.9/lib/python/site-packages (from pandas) (2023.3.post1)\n",
      "Requirement already satisfied: tzdata>=2022.1 in /Users/mitchjo/Library/Python/3.9/lib/python/site-packages (from pandas) (2023.3)\n",
      "Requirement already satisfied: intervaltree in /Users/mitchjo/Library/Python/3.9/lib/python/site-packages (from khipu-metabolomics) (3.1.0)\n",
      "Requirement already satisfied: isocor in /Users/mitchjo/Library/Python/3.9/lib/python/site-packages (from khipu-metabolomics) (2.2.2)\n",
      "Requirement already satisfied: networkx in /Users/mitchjo/Library/Python/3.9/lib/python/site-packages (from khipu-metabolomics) (3.2.1)\n",
      "Requirement already satisfied: requests in /Users/mitchjo/Library/Python/3.9/lib/python/site-packages (from khipu-metabolomics) (2.31.0)\n",
      "Requirement already satisfied: treelib in /Users/mitchjo/Library/Python/3.9/lib/python/site-packages (from khipu-metabolomics) (1.7.0)\n",
      "Requirement already satisfied: joblib>=1.1.1 in /Users/mitchjo/Library/Python/3.9/lib/python/site-packages (from scikit-learn) (1.3.2)\n",
      "Requirement already satisfied: threadpoolctl>=2.0.0 in /Users/mitchjo/Library/Python/3.9/lib/python/site-packages (from scikit-learn) (3.2.0)\n",
      "Requirement already satisfied: contourpy>=1.0.1 in /Users/mitchjo/Library/Python/3.9/lib/python/site-packages (from matplotlib) (1.2.0)\n",
      "Requirement already satisfied: cycler>=0.10 in /Users/mitchjo/Library/Python/3.9/lib/python/site-packages (from matplotlib) (0.12.1)\n",
      "Requirement already satisfied: fonttools>=4.22.0 in /Users/mitchjo/Library/Python/3.9/lib/python/site-packages (from matplotlib) (4.46.0)\n",
      "Requirement already satisfied: kiwisolver>=1.3.1 in /Users/mitchjo/Library/Python/3.9/lib/python/site-packages (from matplotlib) (1.4.5)\n",
      "Requirement already satisfied: packaging>=20.0 in /Users/mitchjo/Library/Python/3.9/lib/python/site-packages (from matplotlib) (21.3)\n",
      "Requirement already satisfied: pillow>=8 in /Users/mitchjo/Library/Python/3.9/lib/python/site-packages (from matplotlib) (10.1.0)\n",
      "Requirement already satisfied: pyparsing>=2.3.1 in /Users/mitchjo/Library/Python/3.9/lib/python/site-packages (from matplotlib) (3.1.1)\n",
      "Requirement already satisfied: importlib-resources>=3.2.0 in /Users/mitchjo/Library/Python/3.9/lib/python/site-packages (from matplotlib) (6.1.1)\n",
      "Requirement already satisfied: pycombat in /Users/mitchjo/Library/Python/3.9/lib/python/site-packages (from pcpfm) (0.20)\n",
      "Requirement already satisfied: combat in /Users/mitchjo/Library/Python/3.9/lib/python/site-packages (from pcpfm) (0.3.3)\n",
      "Requirement already satisfied: fpdf in /Users/mitchjo/Library/Python/3.9/lib/python/site-packages (from pcpfm) (1.7.2)\n",
      "Requirement already satisfied: matchms in /Users/mitchjo/Library/Python/3.9/lib/python/site-packages (from pcpfm) (0.27.0)\n",
      "Requirement already satisfied: setuptools in /Users/mitchjo/Library/Python/3.9/lib/python/site-packages (from pcpfm) (69.0.2)\n",
      "Requirement already satisfied: gdown in /Users/mitchjo/Library/Python/3.9/lib/python/site-packages (from pcpfm) (4.7.1)\n",
      "Requirement already satisfied: zipp>=3.1.0 in /Users/mitchjo/Library/Python/3.9/lib/python/site-packages (from importlib-resources>=3.2.0->matplotlib) (3.17.0)\n",
      "Requirement already satisfied: bokeh<3.4.0,>=3.2.0 in /Users/mitchjo/Library/Python/3.9/lib/python/site-packages (from panel>=0.13.0->asari-metabolomics) (3.3.2)\n",
      "Requirement already satisfied: param<3.0,>=2.0.0 in /Users/mitchjo/Library/Python/3.9/lib/python/site-packages (from panel>=0.13.0->asari-metabolomics) (2.0.1)\n",
      "Requirement already satisfied: pyviz-comms>=2.0.0 in /Users/mitchjo/Library/Python/3.9/lib/python/site-packages (from panel>=0.13.0->asari-metabolomics) (3.0.0)\n",
      "Requirement already satisfied: xyzservices>=2021.09.1 in /Users/mitchjo/Library/Python/3.9/lib/python/site-packages (from panel>=0.13.0->asari-metabolomics) (2023.10.1)\n",
      "Requirement already satisfied: markdown in /Users/mitchjo/Library/Python/3.9/lib/python/site-packages (from panel>=0.13.0->asari-metabolomics) (3.5.1)\n",
      "Requirement already satisfied: markdown-it-py in /Users/mitchjo/Library/Python/3.9/lib/python/site-packages (from panel>=0.13.0->asari-metabolomics) (3.0.0)\n",
      "Requirement already satisfied: linkify-it-py in /Users/mitchjo/Library/Python/3.9/lib/python/site-packages (from panel>=0.13.0->asari-metabolomics) (2.0.2)\n",
      "Requirement already satisfied: mdit-py-plugins in /Users/mitchjo/Library/Python/3.9/lib/python/site-packages (from panel>=0.13.0->asari-metabolomics) (0.4.0)\n",
      "Requirement already satisfied: tqdm>=4.48.0 in /Users/mitchjo/Library/Python/3.9/lib/python/site-packages (from panel>=0.13.0->asari-metabolomics) (4.66.1)\n",
      "Requirement already satisfied: bleach in /Users/mitchjo/Library/Python/3.9/lib/python/site-packages (from panel>=0.13.0->asari-metabolomics) (6.1.0)\n",
      "Requirement already satisfied: typing-extensions in /Users/mitchjo/Library/Python/3.9/lib/python/site-packages (from panel>=0.13.0->asari-metabolomics) (4.8.0)\n",
      "Requirement already satisfied: six>=1.5 in /Users/mitchjo/Library/Python/3.9/lib/python/site-packages (from python-dateutil>=2.8.2->pandas) (1.16.0)\n",
      "Requirement already satisfied: mpmath>=1.1.0 in /Users/mitchjo/Library/Python/3.9/lib/python/site-packages (from combat->pcpfm) (1.3.0)\n",
      "Requirement already satisfied: patsy>=0.5.1 in /Users/mitchjo/Library/Python/3.9/lib/python/site-packages (from combat->pcpfm) (0.5.4)\n",
      "Requirement already satisfied: filelock in /Users/mitchjo/Library/Python/3.9/lib/python/site-packages (from gdown->pcpfm) (3.13.1)\n",
      "Requirement already satisfied: beautifulsoup4 in /Users/mitchjo/Library/Python/3.9/lib/python/site-packages (from gdown->pcpfm) (4.12.2)\n",
      "Requirement already satisfied: colorcet in /Users/mitchjo/Library/Python/3.9/lib/python/site-packages (from holoviews->asari-metabolomics) (3.0.1)\n",
      "Requirement already satisfied: sortedcontainers<3.0,>=2.0 in /Users/mitchjo/Library/Python/3.9/lib/python/site-packages (from intervaltree->khipu-metabolomics) (2.4.0)\n",
      "Requirement already satisfied: deprecated>=1.2.14 in /Users/mitchjo/Library/Python/3.9/lib/python/site-packages (from matchms->pcpfm) (1.2.14)\n",
      "Requirement already satisfied: lxml<5.0.0,>=4.9.3 in /Users/mitchjo/Library/Python/3.9/lib/python/site-packages (from matchms->pcpfm) (4.9.3)\n",
      "Requirement already satisfied: numba<0.60,>=0.57.1 in /Users/mitchjo/Library/Python/3.9/lib/python/site-packages (from matchms->pcpfm) (0.57.1)\n",
      "Requirement already satisfied: pickydict>=0.4.0 in /Users/mitchjo/Library/Python/3.9/lib/python/site-packages (from matchms->pcpfm) (0.4.0)\n",
      "Requirement already satisfied: pubchempy in /Users/mitchjo/Library/Python/3.9/lib/python/site-packages (from matchms->pcpfm) (1.0.4)\n",
      "Requirement already satisfied: pyteomics>=4.6 in /Users/mitchjo/Library/Python/3.9/lib/python/site-packages (from matchms->pcpfm) (4.6.3)\n",
      "Requirement already satisfied: rdkit>=2023.9.6 in /Users/mitchjo/Library/Python/3.9/lib/python/site-packages (from matchms->pcpfm) (2024.3.5)\n",
      "Requirement already satisfied: sparsestack>=0.4.1 in /Users/mitchjo/Library/Python/3.9/lib/python/site-packages (from matchms->pcpfm) (0.4.1)\n",
      "Requirement already satisfied: charset-normalizer<4,>=2 in /Users/mitchjo/Library/Python/3.9/lib/python/site-packages (from requests->khipu-metabolomics) (3.3.2)\n",
      "Requirement already satisfied: idna<4,>=2.5 in /Users/mitchjo/Library/Python/3.9/lib/python/site-packages (from requests->khipu-metabolomics) (3.6)\n",
      "Requirement already satisfied: urllib3<3,>=1.21.1 in /Users/mitchjo/Library/Python/3.9/lib/python/site-packages (from requests->khipu-metabolomics) (1.26.6)\n",
      "Requirement already satisfied: certifi>=2017.4.17 in /Users/mitchjo/Library/Python/3.9/lib/python/site-packages (from requests->khipu-metabolomics) (2023.11.17)\n",
      "Requirement already satisfied: regex in /Users/mitchjo/Library/Python/3.9/lib/python/site-packages (from pymzml->asari-metabolomics) (2023.10.3)\n",
      "Requirement already satisfied: Jinja2>=2.9 in /Users/mitchjo/Library/Python/3.9/lib/python/site-packages (from bokeh<3.4.0,>=3.2.0->panel>=0.13.0->asari-metabolomics) (3.1.2)\n",
      "Requirement already satisfied: tornado>=5.1 in /Users/mitchjo/Library/Python/3.9/lib/python/site-packages (from bokeh<3.4.0,>=3.2.0->panel>=0.13.0->asari-metabolomics) (6.4)\n",
      "Requirement already satisfied: pyct>=0.4.4 in /Users/mitchjo/Library/Python/3.9/lib/python/site-packages (from colorcet->holoviews->asari-metabolomics) (0.5.0)\n",
      "Requirement already satisfied: wrapt<2,>=1.10 in /Users/mitchjo/Library/Python/3.9/lib/python/site-packages (from deprecated>=1.2.14->matchms->pcpfm) (1.16.0)\n",
      "Requirement already satisfied: llvmlite<0.41,>=0.40.0dev0 in /Users/mitchjo/Library/Python/3.9/lib/python/site-packages (from numba<0.60,>=0.57.1->matchms->pcpfm) (0.40.1)\n",
      "Requirement already satisfied: soupsieve>1.2 in /Users/mitchjo/Library/Python/3.9/lib/python/site-packages (from beautifulsoup4->gdown->pcpfm) (2.5)\n",
      "Requirement already satisfied: webencodings in /Users/mitchjo/Library/Python/3.9/lib/python/site-packages (from bleach->panel>=0.13.0->asari-metabolomics) (0.5.1)\n",
      "Requirement already satisfied: uc-micro-py in /Users/mitchjo/Library/Python/3.9/lib/python/site-packages (from linkify-it-py->panel>=0.13.0->asari-metabolomics) (1.0.2)\n",
      "Requirement already satisfied: importlib-metadata>=4.4 in /Users/mitchjo/Library/Python/3.9/lib/python/site-packages (from markdown->panel>=0.13.0->asari-metabolomics) (7.0.0)\n",
      "Requirement already satisfied: mdurl~=0.1 in /Users/mitchjo/Library/Python/3.9/lib/python/site-packages (from markdown-it-py->panel>=0.13.0->asari-metabolomics) (0.1.2)\n",
      "Requirement already satisfied: PySocks!=1.5.7,>=1.5.6 in /Users/mitchjo/Library/Python/3.9/lib/python/site-packages (from requests[socks]->gdown->pcpfm) (1.7.1)\n",
      "Requirement already satisfied: MarkupSafe>=2.0 in /Users/mitchjo/Library/Python/3.9/lib/python/site-packages (from Jinja2>=2.9->bokeh<3.4.0,>=3.2.0->panel>=0.13.0->asari-metabolomics) (2.1.3)\n"
     ]
    }
   ],
   "source": [
    "# here we will install the python3 packages required for the modules.\n",
    "\n",
    "!pip3 install asari-metabolomics numpy pandas khipu-metabolomics scipy scikit-learn matplotlib seaborn pcpfm"
   ]
  },
  {
   "cell_type": "markdown",
   "metadata": {},
   "source": [
    "## Downloading Data\n",
    "\n",
    "The following block will download all the datasets used in the tutorials and place them in ../../Datasets. \n",
    "\n",
    "All notebooks in this tutorial look at that location for their data. "
   ]
  },
  {
   "cell_type": "markdown",
   "metadata": {},
   "source": []
  },
  {
   "cell_type": "code",
   "execution_count": 13,
   "metadata": {},
   "outputs": [],
   "source": [
    "import requests, zipfile, io, os\n",
    "\n",
    "os.makedirs(\"../../Datasets\", exist_ok=True)\n",
    "\n",
    "datasets = [\n",
    "    \"https://github.com/shuzhao-li-lab/data/raw/main/data/MT02Dataset.zip\",\n",
    "    \"https://github.com/shuzhao-li-lab/asari_pcpfm_tutorials/releases/download/v.data_release_0.0.1-alpha/MT01.zip\",\n",
    "    \"https://github.com/shuzhao-li-lab/asari_pcpfm_tutorials/releases/download/v.data_release_0.0.1-alpha/MT01_MS2.zip\",\n",
    "    \"https://raw.githubusercontent.com/shuzhao-li-lab/khipu/refs/heads/main/testdata/yeast_pos_full.tsv\",\n",
    "    \"https://raw.githubusercontent.com/shuzhao-li-lab/khipu/refs/heads/main/testdata/ecoli_pos.tsv\",\n",
    "    \"https://github.com/shuzhao-li-lab/khipu/blob/main/testdata/yeast_neg.tsv\"\n",
    "]\n",
    "\n",
    "for dataset in datasets:\n",
    "    r = requests.get(dataset)\n",
    "    if dataset.endswith(\".zip\"):\n",
    "        z = zipfile.ZipFile(io.BytesIO(r.content))\n",
    "        z.extractall(\"../../Datasets/\")\n",
    "    else:\n",
    "        with open(\"../../Datasets/\" + os.path.basename(dataset), 'bw+') as out_fh:\n",
    "            out_fh.write(r.content)"
   ]
  },
  {
   "cell_type": "code",
   "execution_count": null,
   "metadata": {},
   "outputs": [],
   "source": [
    "# lets download a stable isotope tracing dataset for use in Module 2\n",
    "\n"
   ]
  },
  {
   "cell_type": "code",
   "execution_count": null,
   "metadata": {},
   "outputs": [],
   "source": [
    "# for annotation in the pcpfm, we must download metabolite databases such as the LMSD, HMDB, MoNA, etc.\n",
    "# this can"
   ]
  },
  {
   "cell_type": "code",
   "execution_count": null,
   "metadata": {},
   "outputs": [],
   "source": []
  }
 ],
 "metadata": {
  "kernelspec": {
   "display_name": "Python 3",
   "language": "python",
   "name": "python3"
  },
  "language_info": {
   "codemirror_mode": {
    "name": "ipython",
    "version": 3
   },
   "file_extension": ".py",
   "mimetype": "text/x-python",
   "name": "python",
   "nbconvert_exporter": "python",
   "pygments_lexer": "ipython3",
   "version": "3.9.6"
  }
 },
 "nbformat": 4,
 "nbformat_minor": 2
}
