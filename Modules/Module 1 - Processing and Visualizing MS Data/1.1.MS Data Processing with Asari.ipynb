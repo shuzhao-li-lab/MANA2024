{
 "cells": [
  {
   "cell_type": "code",
   "execution_count": null,
   "metadata": {
    "vscode": {
     "languageId": "shellscript"
    }
   },
   "outputs": [],
   "source": [
    "# In this notebook we will process a trial dataset using Asari.\n",
    "# In the next notebook, we will visualize the results."
   ]
  },
  {
   "cell_type": "code",
   "execution_count": null,
   "metadata": {
    "vscode": {
     "languageId": "shellscript"
    }
   },
   "outputs": [],
   "source": [
    "# lets verify all needed packages are installed\n",
    "\n",
    "!pip3 install asari-metabolomics"
   ]
  },
  {
   "cell_type": "code",
   "execution_count": null,
   "metadata": {
    "vscode": {
     "languageId": "shellscript"
    }
   },
   "outputs": [],
   "source": [
    "# now lets run asari on our test dataset. \n",
    "# --pickle true and --database_mode ondisk is needed to keep intermediate pickle files around for visualization later. \n",
    "\n",
    "!asari process -i ../../Datasets/MT02Dataset/ -o ../../Results/ -m pos -j MT02_results --pickle true --database_mode ondisk\n",
    "\n",
    "# After you exeucte this block, you should see the output from asari."
   ]
  },
  {
   "cell_type": "code",
   "execution_count": null,
   "metadata": {},
   "outputs": [],
   "source": [
    "# find the outputs from the asari run\n",
    "\n",
    "import os \n",
    "asari_subdir = None\n",
    "for x in os.listdir(\"../../\"):\n",
    "    if x.startswith(\"Results_MT02_results\"):\n",
    "        asari_subdir = os.path.join(os.path.abspath(\"../../\"), x)\n",
    "preferred_table = os.path.join(asari_subdir, \"preferred_Feature_table.tsv\")\n",
    "annotation_table = os.path.join(asari_subdir, \"Feature_annotation.tsv\")    \n"
   ]
  },
  {
   "cell_type": "code",
   "execution_count": null,
   "metadata": {},
   "outputs": [],
   "source": [
    "# lets checkout our feature table\n",
    "# the shape of a table is the number of rows, by the number of columns. \n",
    "# Each row is a feature, each column is a sample or data field, the first 11 columns are data fields so we don't count them as samples and the first row is the header. \n",
    "# Thus we can see the number of samples and features \n",
    "\n",
    "import pandas as pd\n",
    "\n",
    "ft = pd.read_csv(preferred_table, sep=\"\\t\")\n",
    "print(\"Num_Samples = \", ft.shape[1]-11)\n",
    "print(\"Num_Features = \", ft.shape[0]-1)"
   ]
  },
  {
   "cell_type": "markdown",
   "metadata": {},
   "source": []
  },
  {
   "cell_type": "code",
   "execution_count": null,
   "metadata": {},
   "outputs": [],
   "source": [
    "# this shows the top rows of the feature table\n",
    "ft.head()"
   ]
  },
  {
   "cell_type": "code",
   "execution_count": null,
   "metadata": {},
   "outputs": [],
   "source": [
    "# lets look at the default annotation returned by Asari\n",
    "\n",
    "annots = pd.read_csv(annotation_table, sep=\"\\t\")\n",
    "annots.head()"
   ]
  },
  {
   "cell_type": "code",
   "execution_count": null,
   "metadata": {},
   "outputs": [],
   "source": [
    "# now you can process data using Asari! \n",
    "# in the next modules we will work with annotation and visualization of the results, but with slight modification this notebook can be used to process your datasets too."
   ]
  }
 ],
 "metadata": {
  "kernelspec": {
   "display_name": "Python 3",
   "language": "python",
   "name": "python3"
  },
  "language_info": {
   "codemirror_mode": {
    "name": "ipython",
    "version": 3
   },
   "file_extension": ".py",
   "mimetype": "text/x-python",
   "name": "python",
   "nbconvert_exporter": "python",
   "pygments_lexer": "ipython3",
   "version": "3.9.6"
  }
 },
 "nbformat": 4,
 "nbformat_minor": 2
}
