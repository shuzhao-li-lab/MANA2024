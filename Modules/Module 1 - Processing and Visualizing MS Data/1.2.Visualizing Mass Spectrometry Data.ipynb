{
 "cells": [
  {
   "cell_type": "code",
   "execution_count": null,
   "metadata": {},
   "outputs": [],
   "source": [
    "# before proceeding, you should have already ran notebook 1.1 so that there is an asari results directory to work with\n",
    "\n",
    "import os\n",
    "import pickle\n",
    "import pandas as pd\n",
    "import matplotlib.pyplot as plt\n",
    "import numpy as np"
   ]
  },
  {
   "cell_type": "code",
   "execution_count": null,
   "metadata": {},
   "outputs": [],
   "source": [
    "# lets find the previous results and load the composite map\n",
    "\n",
    "asari_subdir = None\n",
    "for x in os.listdir(\"../../\"):\n",
    "    if x.startswith(\"Results_MT02_results\"):\n",
    "        asari_subdir = os.path.join(os.path.abspath(\"../../\"), x)\n",
    "\n",
    "cmap = pickle.load(open(os.path.join(asari_subdir, 'export', 'cmap.pickle'), 'rb'))"
   ]
  },
  {
   "cell_type": "code",
   "execution_count": null,
   "metadata": {},
   "outputs": [],
   "source": [
    "# confirming that the cmap is of type dict and examining the keys it contains.\n",
    "\n",
    "print(type(cmap))\n",
    "print(cmap.keys())\n",
    "\n"
   ]
  },
  {
   "cell_type": "code",
   "execution_count": null,
   "metadata": {},
   "outputs": [],
   "source": [
    "# the composite map contains multiple mass tracks. These can be accessed as follows:\n",
    "\n",
    "cmap['list_mass_tracks'][583]"
   ]
  },
  {
   "cell_type": "code",
   "execution_count": null,
   "metadata": {},
   "outputs": [],
   "source": [
    "# lets define a function for plotting mass tracks\n",
    "\n",
    "def plotk(track, color='m', start=100, end=400, yticks=[0, 5e7, 1e8], title=''):\n",
    "    plt.figure(figsize=(8, 4))\n",
    "    X = range(start, min(len(track['intensity']), end))\n",
    "    Y = track['intensity'][start: min(len(track['intensity']), end)]\n",
    "    plt.plot(X, Y, color=color, marker='o', markersize=4, linestyle='dashed')\n",
    "    if title:\n",
    "        plt.title(title)\n"
   ]
  },
  {
   "cell_type": "code",
   "execution_count": null,
   "metadata": {},
   "outputs": [],
   "source": [
    "# and lets use it to plot some tracks.\n",
    "\n",
    "plotk(cmap['list_mass_tracks'][3], color='k', start=00, end=400, yticks=[0, 2e8])\n"
   ]
  },
  {
   "cell_type": "code",
   "execution_count": null,
   "metadata": {},
   "outputs": [],
   "source": [
    "# note that the composite mass track is from cumulated signals from all samples. How do we look at the same mass track in individual samples?\n",
    "# Asari stores the mapping of composite tracks to individual sample tracks in the _mass_grid_mapping file.\n",
    "\n",
    "cmap_to_sample_map = pd.read_csv(os.path.join(asari_subdir, 'export', '_mass_grid_mapping.csv'), index_col=0)\n",
    "cmap_to_sample_map\n"
   ]
  },
  {
   "cell_type": "code",
   "execution_count": null,
   "metadata": {},
   "outputs": [],
   "source": [
    "myfiles = ['batch11_MT_20210805_005', 'batch12_MT_20210806_005_20210806121327', 'batch13_MT_20210807_005']\n",
    "cmap_to_sample_map.iloc[3, :]"
   ]
  },
  {
   "cell_type": "code",
   "execution_count": null,
   "metadata": {},
   "outputs": [],
   "source": [
    "# the above output shows the mapping of the cmap mass track to mass tracks in the samples. They should be integers but are not due to pandas inferring them as float. Next we can use this mapping to load the per sample mass tracks as follows: \n",
    "\n",
    "data = []\n",
    "for f in myfiles:\n",
    "    with open(os.path.join(asari_subdir, 'pickle', f+'.pickle'), 'rb') as fh:\n",
    "        data.append(pickle.load(fh))"
   ]
  },
  {
   "cell_type": "code",
   "execution_count": null,
   "metadata": {},
   "outputs": [],
   "source": [
    "# lets take a look at the sample mass tracks\n",
    "data[0].keys()"
   ]
  },
  {
   "cell_type": "code",
   "execution_count": null,
   "metadata": {},
   "outputs": [],
   "source": [
    "# lets do some plotting, lets plot the same mass track for all the samples in myfiles\n",
    "\n",
    "for f, d in zip(myfiles, data):\n",
    "    x = cmap_to_sample_map.iloc[3][f]\n",
    "    plotk(d['list_mass_tracks'][int(x)], title=f)"
   ]
  },
  {
   "cell_type": "code",
   "execution_count": null,
   "metadata": {},
   "outputs": [],
   "source": [
    "# with the above data plotted, now we can explain composte mass tracks a different way. \n",
    "# composite mass tracks are produced by aligning then summing the sample mass tracks. here we skip the alignment but perform the summation. \n",
    "\n",
    "composite = {\n",
    "    'intensity': None\n",
    "}\n",
    "\n",
    "for f, d in zip(myfiles, data):\n",
    "    x = cmap_to_sample_map.iloc[3][f]\n",
    "    lmt = d['list_mass_tracks'][int(x)]['intensity'][:400]\n",
    "    if composite['intensity'] is None:\n",
    "        composite['intensity'] = lmt\n",
    "    else:\n",
    "        composite['intensity'] += lmt\n",
    "\n"
   ]
  },
  {
   "cell_type": "code",
   "execution_count": null,
   "metadata": {},
   "outputs": [],
   "source": [
    "plotk(composite)\n",
    "\n",
    "# this composite is very similar to the mass track we plotted earlier from the cmap file. \n",
    "# in asari, the peak picking of this composite yields features, and the corresponding regions in each sample are then referenced to yield the intensity per sample. "
   ]
  }
 ],
 "metadata": {
  "kernelspec": {
   "display_name": "Python 3",
   "language": "python",
   "name": "python3"
  },
  "language_info": {
   "codemirror_mode": {
    "name": "ipython",
    "version": 3
   },
   "file_extension": ".py",
   "mimetype": "text/x-python",
   "name": "python",
   "nbconvert_exporter": "python",
   "pygments_lexer": "ipython3",
   "version": "3.9.6"
  }
 },
 "nbformat": 4,
 "nbformat_minor": 2
}
