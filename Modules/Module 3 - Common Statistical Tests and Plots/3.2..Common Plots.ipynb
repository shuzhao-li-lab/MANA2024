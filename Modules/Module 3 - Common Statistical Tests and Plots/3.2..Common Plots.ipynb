{
 "cells": [
  {
   "cell_type": "code",
   "execution_count": null,
   "metadata": {},
   "outputs": [],
   "source": [
    "import pandas as pd\n",
    "import numpy as np\n",
    "import matplotlib.pyplot as plt\n",
    "from scipy.stats import ttest_ind, mannwhitneyu"
   ]
  },
  {
   "cell_type": "code",
   "execution_count": null,
   "metadata": {},
   "outputs": [],
   "source": [
    "# demo data are at https://github.com/shuzhao-li/khipu/tree/main/testdata/\n",
    "# Have a look via pd\n",
    "ecoli = pd.read_table(\"../../Datasets/ecoli_pos.tsv\", sep=\"\\t\", index_col=0)\n",
    "ecoli.head()"
   ]
  },
  {
   "cell_type": "code",
   "execution_count": null,
   "metadata": {},
   "outputs": [],
   "source": [
    "# t-test of each row between 12C and 13C samples\n",
    "# data are log2 transformed in this test to have more normal distribution; +1 to avoid log2(0)\n",
    "\n",
    "\n",
    "def ttest(row):\n",
    "    t,p = ttest_ind(np.log2(row[3:6]+1), np.log2(row[6:9]+1))\n",
    "    return p\n",
    "\n",
    "pvalues_featurelist = ecoli.apply(ttest, axis=1)\n",
    "pvalues_featurelist = pvalues_featurelist.sort_values()\n",
    "pvalues_featurelist.head(10)"
   ]
  },
  {
   "cell_type": "code",
   "execution_count": null,
   "metadata": {},
   "outputs": [],
   "source": [
    "most_significant = pvalues_featurelist.index[0]\n",
    "print(most_significant)\n",
    "\n",
    "ecoli2 = pd.read_table(\"../../Datasets/ecoli_pos.tsv\", sep=\"\\t\")\n",
    "ecoli2.head()\n",
    "\n",
    "ft_lookup = {}\n",
    "for x in ecoli2.to_dict(orient='records'):\n",
    "    ft_lookup[x['id_number']] = x\n",
    "\n",
    "print(ft_lookup)\n",
    "all_samples = [x for x in ft_lookup[most_significant].keys() if \"Ecoli\" in x]\n",
    "print(all_samples)\n",
    "C12_samples = [x for x in all_samples if \"12C\" in x]\n",
    "C13_samples = [x for x in all_samples if \"13C\" in x]\n"
   ]
  },
  {
   "cell_type": "code",
   "execution_count": null,
   "metadata": {},
   "outputs": [],
   "source": [
    "# for plotting, seaborn is an excellent choice as it natively can produce many of the plots a metabolomics data scientist would like to make.\n",
    "# seaborn is actually just a wrapper around matplotlib, so everything you know about matplotlib applies to seaborn too (with some tweaking)\n",
    "\n",
    "import seaborn as sns\n",
    "import numpy as np\n",
    "\n",
    "# Generate some data\n",
    "data = np.random.normal(10, 2, 100)\n",
    "\n",
    "# Create the box plot\n",
    "sns.boxplot(data=data, showfliers=False)\n",
    "\n",
    "# Add scatter points\n",
    "sns.stripplot(data=data, color=\"black\", size=4, jitter=0.2)\n",
    "\n",
    "# here we can do some matplotlib fun and add titles and axes labels\n",
    "plt.title(\"Example BoxPlot\")\n",
    "plt.ylabel(\"Intensity\")\n",
    "\n",
    "plt.show()"
   ]
  },
  {
   "cell_type": "code",
   "execution_count": null,
   "metadata": {},
   "outputs": [],
   "source": [
    "#lets look at the \n",
    "\n",
    "values = [np.log2(ft_lookup[most_significant][x] + 1) for x in all_samples]\n",
    "sns.boxplot(values)\n",
    "sns.stripplot(values)\n",
    "plt.title(most_significant)\n",
    "plt.ylabel(\"intensity\")\n",
    "plt.show()"
   ]
  },
  {
   "cell_type": "code",
   "execution_count": null,
   "metadata": {},
   "outputs": [],
   "source": [
    "# volcano plot\n",
    "\n",
    "ALPHA = 0.05 # significance threshold\n",
    "FC_CUTOFF = 2 # fold change cutoff\n",
    "\n",
    "fold_changes = []\n",
    "p_values = []\n",
    "colors = []\n",
    "for ft_id, ft in ft_lookup.items():\n",
    "    C12_values = np.array([ft[x] for x in C12_samples])\n",
    "    C13_values = np.array([ft[x] for x in C13_samples])\n",
    "    fc = np.mean(np.log2(C12_values+1)) - np.mean(np.log2(C13_values+1))\n",
    "    t, p_val = ttest_ind(np.log2(C12_values+1), np.log2(C13_values+1))\n",
    "    fold_changes.append(fc)\n",
    "    p_values.append(-np.log10(p_val))\n",
    "    if p_val < ALPHA and abs(fc) > FC_CUTOFF:\n",
    "        colors.append('r')\n",
    "    else:\n",
    "        colors.append('k')\n",
    "plt.ylabel(\"-log10(p)\")\n",
    "plt.xlabel(\"log fold change\")\n",
    "plt.scatter(fold_changes, p_values, c=colors)\n",
    "plt.show()"
   ]
  },
  {
   "cell_type": "code",
   "execution_count": null,
   "metadata": {},
   "outputs": [],
   "source": [
    "# now lets make a clustermap. A clustermap is like a heatmap, but the samples are organized based on some linkage between features.\n",
    "# with the default parameters we get something like this:\n",
    "\n",
    "sns.clustermap(np.log2(ecoli2[all_samples]+1))\n",
    "plt.suptitle(\"clustermap log2 transformed\")"
   ]
  },
  {
   "cell_type": "code",
   "execution_count": null,
   "metadata": {},
   "outputs": [],
   "source": [
    "# in many cases, the z-score is a more appropriate value on which to do the linkage, fortunately, seaborn can do that for you: \n",
    "\n",
    "\n",
    "# we can also add column colors to show the grouping based on a variable of interest, in this case, the labelling status of the samples\n",
    "\n",
    "col_colors = ['k' if x in C12_samples else 'r' for x in all_samples]\n",
    "sns.clustermap(np.log2(ecoli2[all_samples]+1), z_score=1, col_colors=col_colors)\n",
    "plt.suptitle(\"clustermap log2 transformed\")\n",
    "\n",
    "# we can see that samples clearly cluster on the basis of labelling status which is expected"
   ]
  },
  {
   "cell_type": "code",
   "execution_count": null,
   "metadata": {},
   "outputs": [],
   "source": []
  }
 ],
 "metadata": {
  "kernelspec": {
   "display_name": "Python 3",
   "language": "python",
   "name": "python3"
  },
  "language_info": {
   "codemirror_mode": {
    "name": "ipython",
    "version": 3
   },
   "file_extension": ".py",
   "mimetype": "text/x-python",
   "name": "python",
   "nbconvert_exporter": "python",
   "pygments_lexer": "ipython3",
   "version": "3.9.6"
  }
 },
 "nbformat": 4,
 "nbformat_minor": 2
}
