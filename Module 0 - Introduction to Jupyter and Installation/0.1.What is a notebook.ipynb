{
 "cells": [
  {
   "cell_type": "markdown",
   "metadata": {},
   "source": [
    "# What is Jupyter and what are Notebooks?\n",
    "\n",
    "Jupyter is a system for running computational notebooks such as this one. \n",
    "\n",
    "In a notebook, code is organized into cells or blocks that can be played or executed as a unit. For example, depending on which software you are using, you may see a play button to the left or right on this box, allowing any code that is in it to be executed. \n",
    "\n",
    "Lines of code that start with a '#' are comments and will not be executed. So this block will not actually do anything. Lets move to the next block for examples.\n",
    "\n",
    "By using notebooks, analyses can be made repeatable, reusable, and reproducible. Notebooks can be distributed with Journal articles and hosted on various repositories."
   ]
  },
  {
   "cell_type": "markdown",
   "metadata": {},
   "source": [
    "<a href=\"https://colab.research.google.com/drive/1FbVIXueCqiazpDQwjUXyGFMR-HN35475?usp=sharing\" target=\"_parent\"><img src=\"https://colab.research.google.com/assets/colab-badge.svg\" alt=\"Open In Colab\"/></a>"
   ]
  },
  {
   "cell_type": "code",
   "execution_count": null,
   "metadata": {},
   "outputs": [],
   "source": [
    "# This is a minimal example of code that can be executed in a notebook. \n",
    "# The below will print 'Hello World' to the terminal. Note that the terminal output will be displayed under the cell. (hit the play button)\n",
    "\n",
    "print('Hello World')"
   ]
  },
  {
   "cell_type": "code",
   "execution_count": null,
   "metadata": {},
   "outputs": [],
   "source": [
    "# lines that start with ! will be executed as if typed into the terminal. \n",
    "\n",
    "!ls -alhR"
   ]
  },
  {
   "cell_type": "code",
   "execution_count": null,
   "metadata": {},
   "outputs": [],
   "source": [
    "# Ouputting information to the terminal can be helpful for demonstrating or verifying that a given expression or variable yields a certain value.\n",
    "\n",
    "a = 3\n",
    "a *= a \n",
    "print(a)"
   ]
  },
  {
   "cell_type": "code",
   "execution_count": null,
   "metadata": {},
   "outputs": [],
   "source": [
    "# Although the blocks are organized sequentially, they may be executed in any order. \n",
    "# It is good practice though, to run the blocks in the provided order every time. \n",
    "# For example, the following code requires that the previous block be executed first. \n",
    "\n",
    "print(a)"
   ]
  },
  {
   "cell_type": "code",
   "execution_count": null,
   "metadata": {},
   "outputs": [],
   "source": [
    "# To illustrate that point, run the following code and print the value of a\n",
    "\n",
    "a = 3\n",
    "a += 3\n",
    "print(a)\n",
    "\n",
    "# now rerun the previous block. On the first run the value was 9 now it will be 6."
   ]
  },
  {
   "cell_type": "code",
   "execution_count": null,
   "metadata": {},
   "outputs": [],
   "source": [
    "# Code within notebooks can be as complicated or as simple as you want. \n",
    "\n",
    "# Consider organizing code into blocks where each block does a certain task. \n",
    "\n",
    "# General good coding practices can be used in notebooks as well. For instance, functions can be defined and used in other blocks. \n",
    "\n",
    "# the following code for instance will generate molecular formulas for CHO containing formulas and their masses\n",
    "\n",
    "import numpy as np\n",
    "from mass2chem.formula import dict_to_hill_formula, calculate_formula_mass\n",
    "\n",
    "def gen_CHO(max_C, max_H, max_O):\n",
    "    formulas_with_mass = {}\n",
    "    for index in np.ndindex((max_C, max_H, max_O)):\n",
    "        num_C = index[0]\n",
    "        num_H = index[1]\n",
    "        num_O = index[2]\n",
    "        f_dict = {\n",
    "            \"C\": num_C,\n",
    "            \"H\": num_H,\n",
    "            \"O\": num_O\n",
    "        }\n",
    "        no_zero_f_dict = {k: v for k, v in f_dict.items() if v > 0}\n",
    "        formula = dict_to_hill_formula(no_zero_f_dict)\n",
    "        formulas_with_mass[formula] = calculate_formula_mass(formula)\n",
    "    return formulas_with_mass\n",
    "CHO_555 = gen_CHO(5,5,5)\n",
    "print(CHO_555)"
   ]
  },
  {
   "cell_type": "code",
   "execution_count": null,
   "metadata": {},
   "outputs": [],
   "source": [
    "# And now that function can be used in other blocks. \n",
    "\n",
    "CHO_999 = gen_CHO(9,9,9)\n",
    "print(CHO_999)"
   ]
  },
  {
   "cell_type": "markdown",
   "metadata": {},
   "source": [
    "# Notebook Summary\n",
    "\n",
    "Now you have a basic idea of what notebooks are and how to use them. You can do almost anything in a notebook that you would do with a traditional script. In the next modules we will explore how we can use notebooks for computational metabolomics data processing."
   ]
  }
 ],
 "metadata": {
  "kernelspec": {
   "display_name": "Python 3",
   "language": "python",
   "name": "python3"
  },
  "language_info": {
   "codemirror_mode": {
    "name": "ipython",
    "version": 3
   },
   "file_extension": ".py",
   "mimetype": "text/x-python",
   "name": "python",
   "nbconvert_exporter": "python",
   "pygments_lexer": "ipython3",
   "version": "3.9.6"
  }
 },
 "nbformat": 4,
 "nbformat_minor": 2
}
