{
 "cells": [
  {
   "cell_type": "markdown",
   "metadata": {
    "vscode": {
     "languageId": "shellscript"
    }
   },
   "source": [
    "# Installing Software and Downloading Data\n",
    "\n",
    "This notebook will install the necessary software to run the tutorials and use the pcpfm\n",
    "We assume that you have a working Python3 interpreter and jupyter notebook installed, if that is not the case, follow the instructions in the readme to install them."
   ]
  },
  {
   "cell_type": "markdown",
   "metadata": {},
   "source": [
    "<a href=\"https://colab.research.google.com/drive/1tejLZAzG4_zdBxu0loD3hKfPNWqZxVz5?usp=sharing\" target=\"_parent\"><img src=\"https://colab.research.google.com/assets/colab-badge.svg\" alt=\"Open In Colab\"/></a>\n"
   ]
  },
  {
   "cell_type": "markdown",
   "metadata": {},
   "source": [
    "## Softare Installation"
   ]
  },
  {
   "cell_type": "code",
   "execution_count": null,
   "metadata": {
    "vscode": {
     "languageId": "shellscript"
    }
   },
   "outputs": [],
   "source": [
    "# here we will install the python3 packages required for the modules.\n",
    "\n",
    "!pip3 install asari-metabolomics numpy pandas khipu-metabolomics scipy scikit-learn matplotlib seaborn pcpfm pymzml"
   ]
  },
  {
   "cell_type": "markdown",
   "metadata": {},
   "source": [
    "## Downloading Data\n",
    "\n",
    "The following block will download all the datasets used in the tutorials and place them in ../Datasets. \n",
    "\n",
    "All notebooks in this tutorial look at that location for their data. "
   ]
  },
  {
   "cell_type": "markdown",
   "metadata": {},
   "source": []
  },
  {
   "cell_type": "code",
   "execution_count": null,
   "metadata": {},
   "outputs": [],
   "source": [
    "import requests, zipfile, io, os\n",
    "\n",
    "os.makedirs(\"../Datasets\", exist_ok=True)\n",
    "\n",
    "datasets = [\n",
    "    \"https://github.com/shuzhao-li-lab/data/raw/main/data/MT02Dataset.zip\",\n",
    "    \"https://github.com/shuzhao-li-lab/asari_pcpfm_tutorials/releases/download/v.data_release_0.0.1-alpha/MT01.zip\",\n",
    "    \"https://github.com/shuzhao-li-lab/asari_pcpfm_tutorials/releases/download/v.data_release_0.0.1-alpha/MT01_MS2.zip\",\n",
    "    \"https://raw.githubusercontent.com/shuzhao-li-lab/khipu/refs/heads/main/testdata/yeast_pos_full.tsv\",\n",
    "    \"https://raw.githubusercontent.com/shuzhao-li-lab/khipu/refs/heads/main/testdata/ecoli_pos.tsv\",\n",
    "    \"https://github.com/shuzhao-li-lab/khipu/blob/main/testdata/yeast_neg.tsv\"\n",
    "]\n",
    "\n",
    "for dataset in datasets:\n",
    "    r = requests.get(dataset)\n",
    "    if dataset.endswith(\".zip\"):\n",
    "        z = zipfile.ZipFile(io.BytesIO(r.content))\n",
    "        z.extractall(\"./Datasets/\")\n",
    "    else:\n",
    "        with open(\"./Datasets/\" + os.path.basename(dataset), 'bw+') as out_fh:\n",
    "            out_fh.write(r.content)"
   ]
  },
  {
   "cell_type": "code",
   "execution_count": null,
   "metadata": {},
   "outputs": [],
   "source": [
    "# lets checkout what we downloaded\n",
    "!ls ../Datasets\n",
    "!ls -alhR ../Datasets"
   ]
  },
  {
   "cell_type": "code",
   "execution_count": null,
   "metadata": {},
   "outputs": [],
   "source": [
    "# add download_extras here ? maybe."
   ]
  },
  {
   "cell_type": "markdown",
   "metadata": {},
   "source": [
    "# Notebook Summary\n",
    "\n",
    "Now we have finished downloading the necessary software and datasets to run the rest of the modules. This also shows how notebooks are useful for more than just data analysis. Nearly any computational task can be made repeatable and reproducible using notebooks. "
   ]
  }
 ],
 "metadata": {
  "kernelspec": {
   "display_name": "Python 3",
   "language": "python",
   "name": "python3"
  },
  "language_info": {
   "codemirror_mode": {
    "name": "ipython",
    "version": 3
   },
   "file_extension": ".py",
   "mimetype": "text/x-python",
   "name": "python",
   "nbconvert_exporter": "python",
   "pygments_lexer": "ipython3",
   "version": "3.9.6"
  }
 },
 "nbformat": 4,
 "nbformat_minor": 2
}
