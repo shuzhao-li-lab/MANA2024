{
 "cells": [
  {
   "cell_type": "markdown",
   "metadata": {
    "vscode": {
     "languageId": "shellscript"
    }
   },
   "source": [
    "# Installing Software and Downloading Data\n",
    "\n",
    "This notebook will install the necessary software to run the tutorials and use the pcpfm\n",
    "We assume that you have a working Python3 interpreter and jupyter notebook installed, if that is not the case, follow the instructions in the readme to install them."
   ]
  },
  {
   "cell_type": "markdown",
   "metadata": {},
   "source": [
    "<a href=\"https://colab.research.google.com/github/shuzhao-li-lab/MANA2024/blob/main/Module%200%20-%20Introduction%20to%20Jupyter%20and%20Installation/0.2.Downloading%20Packages%20and%20Data.ipynb\" target=\"blank\"><img src=\"https://colab.research.google.com/assets/colab-badge.svg\" alt=\"Open In Colab\"/></a>\n"
   ]
  },
  {
   "cell_type": "markdown",
   "metadata": {},
   "source": [
    "## Softare Installation"
   ]
  },
  {
   "cell_type": "code",
   "execution_count": null,
   "metadata": {
    "vscode": {
     "languageId": "shellscript"
    }
   },
   "outputs": [],
   "source": [
    "# here we will install the python3 packages required for the modules.\n",
    "\n",
    "!pip3 install asari-metabolomics numpy pandas khipu-metabolomics scipy scikit-learn matplotlib seaborn pcpfm pymzml"
   ]
  },
  {
   "cell_type": "markdown",
   "metadata": {},
   "source": []
  },
  {
   "cell_type": "markdown",
   "metadata": {},
   "source": [
    "# Notebook Summary\n",
    "\n",
    "Now we have finished downloading the necessary software and datasets to run the rest of the modules. This also shows how notebooks are useful for more than just data analysis. Nearly any computational task can be made repeatable and reproducible using notebooks. "
   ]
  }
 ],
 "metadata": {
  "kernelspec": {
   "display_name": "Python 3",
   "language": "python",
   "name": "python3"
  },
  "language_info": {
   "codemirror_mode": {
    "name": "ipython",
    "version": 3
   },
   "file_extension": ".py",
   "mimetype": "text/x-python",
   "name": "python",
   "nbconvert_exporter": "python",
   "pygments_lexer": "ipython3",
   "version": "3.9.6"
  }
 },
 "nbformat": 4,
 "nbformat_minor": 2
}
