{
 "cells": [
  {
   "cell_type": "markdown",
   "metadata": {},
   "source": [
    "# PreAnnotation and Khipu\n",
    "\n",
    "Pre-Annotation is the assignment of features to ion relations and isotopologues. This creates EmpiricalCompounds, collections of features likely to represent the same chemical entity. Pre-Annotation is not unique to Khipu; however, the empirical compounds are. These computable data structures empower annotation in the PCPFM. \n",
    "\n",
    "First we will install Khipu and demonstrate stand alone usage before working with the pipeline or applying this software to isotope labelled data. "
   ]
  },
  {
   "cell_type": "code",
   "execution_count": null,
   "metadata": {},
   "outputs": [],
   "source": [
    "!pip3 install --upgrade khipu-metabolomics"
   ]
  },
  {
   "cell_type": "code",
   "execution_count": null,
   "metadata": {},
   "outputs": [],
   "source": [
    "from khipu.extended import *"
   ]
  },
  {
   "cell_type": "code",
   "execution_count": null,
   "metadata": {},
   "outputs": [],
   "source": [
    "for x in (adduct_search_patterns, isotope_search_patterns, extended_adducts):\n",
    "    print(x, '\\n')"
   ]
  },
  {
   "cell_type": "code",
   "execution_count": null,
   "metadata": {},
   "outputs": [],
   "source": [
    "# 12C data\n",
    "\n",
    "peaklist_12C = read_features_from_text(open(\"../Datasets/ecoli_pos.tsv\").read(), id_col=0, mz_col=1, rtime_col=2, intensity_cols=(3, 6), delimiter=\"\\t\")"
   ]
  },
  {
   "cell_type": "code",
   "execution_count": null,
   "metadata": {},
   "outputs": [],
   "source": [
    "# filter low intensity peaks\n",
    "\n",
    "peaklist_12C = [p for p in peaklist_12C if p['representative_intensity'] > 1]\n",
    "print(len(peaklist_12C))"
   ]
  },
  {
   "cell_type": "code",
   "execution_count": null,
   "metadata": {},
   "outputs": [],
   "source": [
    "# 13C data\n",
    "\n",
    "peaklist_13C = read_features_from_text(open(\"../Datasets/ecoli_pos.tsv\").read(), id_col=0, mz_col=1, rtime_col=2, intensity_cols=(6, 9), delimiter=\"\\t\")"
   ]
  },
  {
   "cell_type": "code",
   "execution_count": null,
   "metadata": {},
   "outputs": [],
   "source": [
    "# filter low intensity peaks\n",
    "\n",
    "peaklist_13C = [p for p in peaklist_13C if p['representative_intensity'] > 1]\n",
    "print(len(peaklist_13C))"
   ]
  },
  {
   "cell_type": "code",
   "execution_count": null,
   "metadata": {},
   "outputs": [],
   "source": [
    "# lets perform pre-annotation\n",
    "\n",
    "subnetworks, peak_dict, edge_dict = peaks_to_networks(peaklist_12C,\n",
    "                    isotope_search_patterns,\n",
    "                    adduct_search_patterns,\n",
    "                    mz_tolerance_ppm=5,\n",
    "                    rt_tolerance=2)\n",
    "\n",
    "WV = Weavor(peak_dict, isotope_search_patterns=isotope_search_patterns, \n",
    "                adduct_search_patterns=adduct_search_patterns, \n",
    "                mz_tolerance_ppm=5, \n",
    "                mode='pos')\n",
    "\n",
    "khipu_list = graphs_to_khipu_list(\n",
    "        subnetworks, WV, mz_tolerance_ppm=5,)\n",
    "\n",
    "print(len(subnetworks), len(khipu_list))\n",
    "\n",
    "list_assigned_peaks = []\n",
    "for KP in khipu_list:\n",
    "    list_assigned_peaks += list(KP.feature_map.keys())\n",
    "    \n",
    "print(len(list_assigned_peaks))\n",
    "\n"
   ]
  },
  {
   "cell_type": "code",
   "execution_count": null,
   "metadata": {},
   "outputs": [],
   "source": [
    "print(json.dumps(peak_dict, indent=4))"
   ]
  },
  {
   "cell_type": "code",
   "execution_count": null,
   "metadata": {},
   "outputs": [],
   "source": [
    "from khipu.extended import *\n",
    "\n",
    "\n",
    "ext_khipu_list, all_assigned_peaks = extend_khipu_list(khipu_list, [x for x in peak_dict.values()], extended_adducts, mz_tolerance_ppm=5, rt_tolerance=2)\n",
    "\n",
    "print(len(ext_khipu_list), len(all_assigned_peaks))\n"
   ]
  }
 ],
 "metadata": {
  "kernelspec": {
   "display_name": "Python 3",
   "language": "python",
   "name": "python3"
  },
  "language_info": {
   "codemirror_mode": {
    "name": "ipython",
    "version": 3
   },
   "file_extension": ".py",
   "mimetype": "text/x-python",
   "name": "python",
   "nbconvert_exporter": "python",
   "pygments_lexer": "ipython3",
   "version": "3.9.6"
  }
 },
 "nbformat": 4,
 "nbformat_minor": 2
}
