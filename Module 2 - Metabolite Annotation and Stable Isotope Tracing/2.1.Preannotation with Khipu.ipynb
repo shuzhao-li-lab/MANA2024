{
 "cells": [
  {
   "cell_type": "markdown",
   "metadata": {},
   "source": [
    "# PreAnnotation and Khipu\n",
    "\n",
    "Pre-Annotation is the assignment of features to ion relations and isotopologues. This creates EmpiricalCompounds, collections of features likely to represent the same chemical entity. Pre-Annotation is not unique to Khipu; however, the empirical compounds are. These computable data structures empower annotation in the PCPFM. \n",
    "\n",
    "First we will install Khipu and demonstrate stand alone usage before working with the pipeline or applying this software to isotope labelled data. "
   ]
  },
  {
   "cell_type": "code",
   "execution_count": null,
   "metadata": {},
   "outputs": [],
   "source": [
    "!pip3 install --upgrade khipu-metabolomics"
   ]
  },
  {
   "cell_type": "code",
   "execution_count": null,
   "metadata": {},
   "outputs": [],
   "source": [
    "from khipu.extended import *\n",
    "\n",
    "# lets take a look at the mass patterns that we will use pre-annotation.\n",
    "\n",
    "for x in (adduct_search_patterns, isotope_search_patterns, extended_adducts):\n",
    "    print(x, '\\n')\n",
    "\n",
    "# each is a tuple of the form (mz delta, name, ...)"
   ]
  },
  {
   "cell_type": "code",
   "execution_count": null,
   "metadata": {},
   "outputs": [],
   "source": [
    "!khipu -i ../Datasets/ecoli_pos.tsv -o khipu_demo"
   ]
  },
  {
   "cell_type": "code",
   "execution_count": null,
   "metadata": {},
   "outputs": [],
   "source": [
    "# khipu generates a tsv and json file\n",
    "\n",
    "!ls -alhR"
   ]
  },
  {
   "cell_type": "code",
   "execution_count": null,
   "metadata": {},
   "outputs": [],
   "source": [
    "kt = pd.read_csv(\"./khipu_demo.tsv\", sep=\"\\t\")\n",
    "kt.head()\n",
    "\n",
    "#note, that in this table, there is a mapping of feature to isotope and modification."
   ]
  },
  {
   "cell_type": "code",
   "execution_count": null,
   "metadata": {},
   "outputs": [],
   "source": [
    "import json\n",
    "json.load(open(\"khipu_demo.json\"))\n",
    "\n",
    "#the JSON has all the information of the TSV but in a better format for programs"
   ]
  }
 ],
 "metadata": {
  "kernelspec": {
   "display_name": "Python 3",
   "language": "python",
   "name": "python3"
  },
  "language_info": {
   "codemirror_mode": {
    "name": "ipython",
    "version": 3
   },
   "file_extension": ".py",
   "mimetype": "text/x-python",
   "name": "python",
   "nbconvert_exporter": "python",
   "pygments_lexer": "ipython3",
   "version": "3.9.6"
  }
 },
 "nbformat": 4,
 "nbformat_minor": 2
}
