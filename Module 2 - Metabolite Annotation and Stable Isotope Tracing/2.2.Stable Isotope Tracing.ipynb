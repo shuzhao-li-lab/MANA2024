{
 "cells": [
  {
   "cell_type": "markdown",
   "metadata": {},
   "source": [
    "# Stable Isotope Tracing with Khipu\n",
    "\n",
    "In this notebook we will look at trends in isotope enrichment over time in a representative dataset.The empcpds in this dataset have already been created but they can be created as shown in the previous notebook."
   ]
  },
  {
   "cell_type": "markdown",
   "metadata": {},
   "source": [
    "<a href=\"https://colab.research.google.com/github/shuzhao-li-lab/MANA2024/blob/main/Module%202%20-%20Metabolite%20Annotation%20and%20Stable%20Isotope%20Tracing/2.2.Stable%20Isotope%20Tracing.ipynb?authuser=1\"><img src=\"https://colab.research.google.com/assets/colab-badge.svg\" alt=\"Open In Colab\"/></a>"
   ]
  },
  {
   "cell_type": "code",
   "execution_count": null,
   "metadata": {},
   "outputs": [],
   "source": [
    "!pip3 install khipu-metabolomics\n",
    "\n",
    "import requests, zipfile, io, os\n",
    "\n",
    "os.makedirs(\"./Datasets\", exist_ok=True)\n",
    "\n",
    "datasets = [\n",
    "    \"https://raw.githubusercontent.com/shuzhao-li-lab/data/refs/heads/main/data/293T_hilic_pos_khipu.json\"\n",
    "]\n",
    "\n",
    "for dataset in datasets:\n",
    "    r = requests.get(dataset)\n",
    "    if dataset.endswith(\".zip\"):\n",
    "        z = zipfile.ZipFile(io.BytesIO(r.content))\n",
    "        z.extractall(\"./Datasets/\")\n",
    "    else:\n",
    "        with open(\"./Datasets/\" + os.path.basename(dataset), 'bw+') as out_fh:\n",
    "            out_fh.write(r.content)"
   ]
  },
  {
   "cell_type": "code",
   "execution_count": null,
   "metadata": {},
   "outputs": [],
   "source": [
    "import json\n",
    "from khipu.analysis import detect_labelling"
   ]
  },
  {
   "cell_type": "code",
   "execution_count": null,
   "metadata": {},
   "outputs": [],
   "source": [
    "empcpds = json.load(open(\"./Datasets/293T_hilic_pos_khipu.json\"))\n",
    "print(len(empcpds))"
   ]
  },
  {
   "cell_type": "markdown",
   "metadata": {},
   "source": [
    "# Detection of Labelling\n",
    "\n",
    "We can use intensity patterns to infer if an empcpd is probably labeled or not. In this case, we will use the scoring funtion in khipu. Isotopologues (not M0), should be more intense in labelled samples if labelling is occuring and it should be significantly higher than control samples. \n"
   ]
  },
  {
   "cell_type": "code",
   "execution_count": null,
   "metadata": {},
   "outputs": [],
   "source": [
    "unlabeled = [\n",
    "    \"11142023_293T_isotope_labeling_HILICpos_RPneg_HILIC_pos___Sample8_HILICpos_SZ_11142023_SZ_11142023_25\",\n",
    "    \"11142023_293T_isotope_labeling_HILICpos_RPneg_HILIC_pos___Sample13_HILICpos_SZ_11142023_SZ_11142023_39\",\n",
    "    \"11142023_293T_isotope_labeling_HILICpos_RPneg_HILIC_pos___Sample14_HILICpos_SZ_11142023_SZ_11142023_41\",\n",
    "    \"11142023_293T_isotope_labeling_HILICpos_RPneg_HILIC_pos___Sample15_HILICpos_SZ_11142023_SZ_11142023_43\",\n",
    "]\n",
    "\n",
    "hr1_label = [\n",
    "    \"11142023_293T_isotope_labeling_HILICpos_RPneg_HILIC_pos___Sample1_HILICpos_SZ_11142023_SZ_11142023_09\",\n",
    "    \"11142023_293T_isotope_labeling_HILICpos_RPneg_HILIC_pos___Sample5_HILICpos_SZ_11142023_SZ_11142023_19\",\n",
    "    \"11142023_293T_isotope_labeling_HILICpos_RPneg_HILIC_pos___Sample10_HILICpos_SZ_11142023_SZ_11142023_31\",\n",
    "    \"11142023_293T_isotope_labeling_HILICpos_RPneg_HILIC_pos___Sample12_HILICpos_SZ_11142023_SZ_11142023_35\"\n",
    "]"
   ]
  },
  {
   "cell_type": "code",
   "execution_count": null,
   "metadata": {},
   "outputs": [],
   "source": [
    "detect_labelling(list(empcpds.values()), unlabeled, hr1_label, \"1hr_workshop\")"
   ]
  },
  {
   "cell_type": "code",
   "execution_count": null,
   "metadata": {},
   "outputs": [],
   "source": [
    "possibly_labeled = []\n",
    "for empcpd in empcpds.values():\n",
    "    if empcpd['labeling_scores']['1hr_workshop']['good_labelling'] > empcpd['labeling_scores']['1hr_workshop']['bad_labelling']:\n",
    "        possibly_labeled.append(empcpd)\n",
    "\n",
    "print(len(empcpds))\n",
    "print(len(possibly_labeled))\n"
   ]
  },
  {
   "cell_type": "code",
   "execution_count": null,
   "metadata": {},
   "outputs": [],
   "source": [
    "# the empcpds that we downloaded already have scores for the 6hr time point.\n",
    "\n",
    "possibly_labeled = []\n",
    "for empcpd in empcpds.values():\n",
    "    if empcpd['labeling_scores']['6hr']['good_labelling'] > empcpd['labeling_scores']['6hr']['bad_labelling']:\n",
    "        possibly_labeled.append(empcpd)\n",
    "\n",
    "print(len(empcpds))\n",
    "print(len(possibly_labeled))"
   ]
  },
  {
   "cell_type": "code",
   "execution_count": null,
   "metadata": {},
   "outputs": [],
   "source": [
    "# the empcpds that we downloaded already have scores for the 12hr time point.\n",
    "\n",
    "possibly_labeled = []\n",
    "for empcpd in empcpds.values():\n",
    "    if empcpd['labeling_scores']['12hr']['good_labelling'] > empcpd['labeling_scores']['12hr']['bad_labelling']:\n",
    "        possibly_labeled.append(empcpd)\n",
    "\n",
    "print(len(empcpds))\n",
    "print(len(possibly_labeled))"
   ]
  },
  {
   "cell_type": "markdown",
   "metadata": {},
   "source": [
    "## Scoring Results\n",
    "\n",
    "So of 2247 total empirical compounds, 150 are possibly labelled after 1 hour, 335 possibly labelled at 6 hours and 397 at 12 hours. "
   ]
  },
  {
   "cell_type": "markdown",
   "metadata": {},
   "source": [
    "## Notebook Summary\n",
    "\n",
    "We have used Khipu to explore stable iosotope tracing data. Other methods are being developed and will be added to Khipu.analysis. Khipu has capabilities for natural abundance correction as well based on IsoCor - more described in:\n",
    "\n",
    "Mitchell et al. 2024. Annotation of Metabolites in Stable Isotope Tracing Untargeted Metabolomics via Khipu-web. https://pubs.acs.org/doi/10.1021/jasms.4c00175"
   ]
  }
 ],
 "metadata": {
  "kernelspec": {
   "display_name": "Python 3",
   "language": "python",
   "name": "python3"
  },
  "language_info": {
   "codemirror_mode": {
    "name": "ipython",
    "version": 3
   },
   "file_extension": ".py",
   "mimetype": "text/x-python",
   "name": "python",
   "nbconvert_exporter": "python",
   "pygments_lexer": "ipython3",
   "version": "3.9.6"
  }
 },
 "nbformat": 4,
 "nbformat_minor": 2
}
